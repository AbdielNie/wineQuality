{
 "cells": [
  {
   "cell_type": "markdown",
   "metadata": {},
   "source": [
    "# Factors Affecting the Quality of Red Wine"
   ]
  },
  {
   "cell_type": "markdown",
   "metadata": {},
   "source": [
    "## Introduction"
   ]
  },
  {
   "cell_type": "markdown",
   "metadata": {},
   "source": [
    "The objective of this project is to find the factor could affect the quelity of wine with the 2009 wine quality data from the north of Portugalusing multiple linear regression. We use the Statsmodels and Patsy modules for this task with Python. The dataset was sourced from the UCI Machine Learning Repository at http://archive.ics.uci.edu/ml/datasets/Wine+Quality (P. Cortez, A. Cerdeira, F. Almeida, T. Matos and J. Reis., 2009). This report is organized as follows:"
   ]
  },
  {
   "cell_type": "markdown",
   "metadata": {},
   "source": [
    "- [Overview](#Overview) section describing the dataset used and the features in this dataset.\n",
    "- [Data preparation](#Data_preparation) section making sure the data is clean.\n",
    "- [Data exploration](#Data-exploration) section explores dataset features and their relationships.\n",
    "- [Statistical Modeling and Performance Evaluation](#Statistical-Modeling-and-Performance-Evaluation)\n",
    "- [Summary and Conclusions](#Summary-and-Conclusions) section summarizing our work and presenting our findings.\n"
   ]
  },
  {
   "cell_type": "markdown",
   "metadata": {},
   "source": [
    "## Overview"
   ]
  },
  {
   "cell_type": "markdown",
   "metadata": {},
   "source": [
    "### Data Source"
   ]
  },
  {
   "cell_type": "markdown",
   "metadata": {},
   "source": [
    "The data source is from Paulo Cortez, University of Minho, Guimarães, Portugal, http://www3.dsi.uminho.pt/pcortez.\n",
    "There are three datasets `winequality-red.csv` `winequality-white.csv` and `winequality.names`. First two are related to red and white vinho verde wine samples and based on physicochemical tests. The `winequality.names` countains the deatils of the variables.Our project will only use `winequality-red.csv` and `winequality.names` to reach our goal.\n",
    "\n",
    "Due to privacy and logistic issues, there will not be including grape types,wine brand or wine selling price etc.The inputs include objective tests (e.g. PH values) and the output is based on sensory data (median of at least 3 evaluations made by wine experts). Each expert graded the wine quality between 0 (very bad) and 10 (very excellent). Several data mining methods were applied to model these datasets under a regression approach. \n",
    "There are 1599 instances from red wine and 4898 instances from white wine. Both of them consist of 11 descriptive features. \n",
    "\n",
    "For more details, consult: http://www.vinhoverde.pt/en/ or the reference [Cortez et al., 2009]."
   ]
  },
  {
   "cell_type": "markdown",
   "metadata": {},
   "source": [
    "### Project Objective"
   ]
  },
  {
   "cell_type": "markdown",
   "metadata": {},
   "source": [
    "Our goal is to see how we can predict a wine quality within an acceptable margin of error using multiple linear regression with affects"
   ]
  },
  {
   "cell_type": "markdown",
   "metadata": {},
   "source": [
    "### Target Feature"
   ]
  },
  {
   "cell_type": "markdown",
   "metadata": {},
   "source": [
    "Our target feature is **`quality`**,which is continuous varible."
   ]
  },
  {
   "cell_type": "markdown",
   "metadata": {},
   "source": [
    "### Descriptive Features"
   ]
  },
  {
   "cell_type": "markdown",
   "metadata": {},
   "source": [
    "- **`fixed acidity `**most acids involved with wine or fixed or nonvolatile &nbsp; <b>continuous varible</b>\n",
    "- **`volatile acidity `**the amount of acetic acid in wine&nbsp; <b>continuous varible</b>\n",
    "- **`citric acid `**found in small quantities, citric acid can add 'freshness' and flavor to wines &nbsp; <b>continuous varible</b>\n",
    "- **`residual sugar `**the amount of sugar remaining after fermentation stops &nbsp; <b>continuous varible</b>\n",
    "- **`chlorides `**the amount of salt in the wine &nbsp; <b>continuous varible</b>\n",
    "- **`free sulfur dioxide`**the free form of SO2 exists in equilibrium between molecular SO2 (as a dissolved gas) and bisulfite ion &nbsp; <b>continuous varible</b>\n",
    "- **`total sulfur dioxide`**amount of free and bound forms of S02 &nbsp; <b>continuous varible</b>\n",
    "- **`density `**the density of water is close to that of water depending on the percent alcohol and sugar content &nbsp; <b>continuous varible</b>\n",
    "- **`pH `**describes how acidic or basic a wine is on a scale from 0 (very acidic) to 14 (very basic) &nbsp; <b>continuous varible</b>\n",
    "- **`sulphates`**a wine additive which can contribute to sulfur dioxide gas (S02) levels &nbsp; <b>continuous varible</b>\n",
    "- **`alcohol`**the percent alcohol content of the wine &nbsp; <b>continuous varible</b>\n",
    "- **`quality`**output variable (based on sensory data, score between 0 and 10) &nbsp; <b>continuous varible</b>\n",
    " \n"
   ]
  },
  {
   "cell_type": "markdown",
   "metadata": {},
   "source": [
    "## Data preparation"
   ]
  },
  {
   "cell_type": "markdown",
   "metadata": {},
   "source": [
    "### Preliminaries"
   ]
  },
  {
   "cell_type": "code",
   "execution_count": 33,
   "metadata": {},
   "outputs": [],
   "source": [
    "# Importing modules\n",
    "import numpy as np\n",
    "import pandas as pd\n",
    "import matplotlib.pyplot as plt\n",
    "import seaborn as sns\n",
    "import statsmodels.api as sm\n",
    "import statsmodels.formula.api as smf\n",
    "import statsmodels.graphics.api as smg\n",
    "import warnings\n",
    "warnings.filterwarnings('ignore')"
   ]
  },
  {
   "cell_type": "code",
   "execution_count": 34,
   "metadata": {},
   "outputs": [
    {
     "name": "stdout",
     "output_type": "stream",
     "text": [
      "There are 1599 rows and 12 columns\n"
     ]
    }
   ],
   "source": [
    "wine_dataset = pd.read_csv('winequality-red.csv')\n",
    "wine_dataset.head()\n",
    "print(f'There are {wine_dataset.shape[0]} rows and {wine_dataset.shape[1]} columns')"
   ]
  },
  {
   "cell_type": "code",
   "execution_count": 35,
   "metadata": {},
   "outputs": [
    {
     "data": {
      "text/html": [
       "<div>\n",
       "<style scoped>\n",
       "    .dataframe tbody tr th:only-of-type {\n",
       "        vertical-align: middle;\n",
       "    }\n",
       "\n",
       "    .dataframe tbody tr th {\n",
       "        vertical-align: top;\n",
       "    }\n",
       "\n",
       "    .dataframe thead th {\n",
       "        text-align: right;\n",
       "    }\n",
       "</style>\n",
       "<table border=\"1\" class=\"dataframe\">\n",
       "  <thead>\n",
       "    <tr style=\"text-align: right;\">\n",
       "      <th></th>\n",
       "      <th>fixed acidity</th>\n",
       "      <th>volatile acidity</th>\n",
       "      <th>citric acid</th>\n",
       "      <th>residual sugar</th>\n",
       "      <th>chlorides</th>\n",
       "      <th>free sulfur dioxide</th>\n",
       "      <th>total sulfur dioxide</th>\n",
       "      <th>density</th>\n",
       "      <th>pH</th>\n",
       "      <th>sulphates</th>\n",
       "      <th>alcohol</th>\n",
       "      <th>quality</th>\n",
       "    </tr>\n",
       "  </thead>\n",
       "  <tbody>\n",
       "    <tr>\n",
       "      <th>1166</th>\n",
       "      <td>9.9</td>\n",
       "      <td>0.540</td>\n",
       "      <td>0.26</td>\n",
       "      <td>2.00</td>\n",
       "      <td>0.111</td>\n",
       "      <td>7.0</td>\n",
       "      <td>60.0</td>\n",
       "      <td>0.99709</td>\n",
       "      <td>2.94</td>\n",
       "      <td>0.98</td>\n",
       "      <td>10.2</td>\n",
       "      <td>5</td>\n",
       "    </tr>\n",
       "    <tr>\n",
       "      <th>353</th>\n",
       "      <td>13.5</td>\n",
       "      <td>0.530</td>\n",
       "      <td>0.79</td>\n",
       "      <td>4.80</td>\n",
       "      <td>0.120</td>\n",
       "      <td>23.0</td>\n",
       "      <td>77.0</td>\n",
       "      <td>1.00180</td>\n",
       "      <td>3.18</td>\n",
       "      <td>0.77</td>\n",
       "      <td>13.0</td>\n",
       "      <td>5</td>\n",
       "    </tr>\n",
       "    <tr>\n",
       "      <th>1079</th>\n",
       "      <td>7.9</td>\n",
       "      <td>0.300</td>\n",
       "      <td>0.68</td>\n",
       "      <td>8.30</td>\n",
       "      <td>0.050</td>\n",
       "      <td>37.5</td>\n",
       "      <td>278.0</td>\n",
       "      <td>0.99316</td>\n",
       "      <td>3.01</td>\n",
       "      <td>0.51</td>\n",
       "      <td>12.3</td>\n",
       "      <td>7</td>\n",
       "    </tr>\n",
       "    <tr>\n",
       "      <th>326</th>\n",
       "      <td>11.6</td>\n",
       "      <td>0.530</td>\n",
       "      <td>0.66</td>\n",
       "      <td>3.65</td>\n",
       "      <td>0.121</td>\n",
       "      <td>6.0</td>\n",
       "      <td>14.0</td>\n",
       "      <td>0.99780</td>\n",
       "      <td>3.05</td>\n",
       "      <td>0.74</td>\n",
       "      <td>11.5</td>\n",
       "      <td>7</td>\n",
       "    </tr>\n",
       "    <tr>\n",
       "      <th>916</th>\n",
       "      <td>5.3</td>\n",
       "      <td>0.715</td>\n",
       "      <td>0.19</td>\n",
       "      <td>1.50</td>\n",
       "      <td>0.161</td>\n",
       "      <td>7.0</td>\n",
       "      <td>62.0</td>\n",
       "      <td>0.99395</td>\n",
       "      <td>3.62</td>\n",
       "      <td>0.61</td>\n",
       "      <td>11.0</td>\n",
       "      <td>5</td>\n",
       "    </tr>\n",
       "    <tr>\n",
       "      <th>1582</th>\n",
       "      <td>6.1</td>\n",
       "      <td>0.715</td>\n",
       "      <td>0.10</td>\n",
       "      <td>2.60</td>\n",
       "      <td>0.053</td>\n",
       "      <td>13.0</td>\n",
       "      <td>27.0</td>\n",
       "      <td>0.99362</td>\n",
       "      <td>3.57</td>\n",
       "      <td>0.50</td>\n",
       "      <td>11.9</td>\n",
       "      <td>5</td>\n",
       "    </tr>\n",
       "    <tr>\n",
       "      <th>442</th>\n",
       "      <td>15.6</td>\n",
       "      <td>0.685</td>\n",
       "      <td>0.76</td>\n",
       "      <td>3.70</td>\n",
       "      <td>0.100</td>\n",
       "      <td>6.0</td>\n",
       "      <td>43.0</td>\n",
       "      <td>1.00320</td>\n",
       "      <td>2.95</td>\n",
       "      <td>0.68</td>\n",
       "      <td>11.2</td>\n",
       "      <td>7</td>\n",
       "    </tr>\n",
       "    <tr>\n",
       "      <th>801</th>\n",
       "      <td>8.6</td>\n",
       "      <td>0.550</td>\n",
       "      <td>0.09</td>\n",
       "      <td>3.30</td>\n",
       "      <td>0.068</td>\n",
       "      <td>8.0</td>\n",
       "      <td>17.0</td>\n",
       "      <td>0.99735</td>\n",
       "      <td>3.23</td>\n",
       "      <td>0.44</td>\n",
       "      <td>10.0</td>\n",
       "      <td>5</td>\n",
       "    </tr>\n",
       "    <tr>\n",
       "      <th>401</th>\n",
       "      <td>7.7</td>\n",
       "      <td>0.260</td>\n",
       "      <td>0.30</td>\n",
       "      <td>1.70</td>\n",
       "      <td>0.059</td>\n",
       "      <td>20.0</td>\n",
       "      <td>38.0</td>\n",
       "      <td>0.99490</td>\n",
       "      <td>3.29</td>\n",
       "      <td>0.47</td>\n",
       "      <td>10.8</td>\n",
       "      <td>6</td>\n",
       "    </tr>\n",
       "    <tr>\n",
       "      <th>1376</th>\n",
       "      <td>8.2</td>\n",
       "      <td>0.885</td>\n",
       "      <td>0.20</td>\n",
       "      <td>1.40</td>\n",
       "      <td>0.086</td>\n",
       "      <td>7.0</td>\n",
       "      <td>31.0</td>\n",
       "      <td>0.99460</td>\n",
       "      <td>3.11</td>\n",
       "      <td>0.46</td>\n",
       "      <td>10.0</td>\n",
       "      <td>5</td>\n",
       "    </tr>\n",
       "  </tbody>\n",
       "</table>\n",
       "</div>"
      ],
      "text/plain": [
       "      fixed acidity  volatile acidity  citric acid  residual sugar  chlorides  \\\n",
       "1166            9.9             0.540         0.26            2.00      0.111   \n",
       "353            13.5             0.530         0.79            4.80      0.120   \n",
       "1079            7.9             0.300         0.68            8.30      0.050   \n",
       "326            11.6             0.530         0.66            3.65      0.121   \n",
       "916             5.3             0.715         0.19            1.50      0.161   \n",
       "1582            6.1             0.715         0.10            2.60      0.053   \n",
       "442            15.6             0.685         0.76            3.70      0.100   \n",
       "801             8.6             0.550         0.09            3.30      0.068   \n",
       "401             7.7             0.260         0.30            1.70      0.059   \n",
       "1376            8.2             0.885         0.20            1.40      0.086   \n",
       "\n",
       "      free sulfur dioxide  total sulfur dioxide  density    pH  sulphates  \\\n",
       "1166                  7.0                  60.0  0.99709  2.94       0.98   \n",
       "353                  23.0                  77.0  1.00180  3.18       0.77   \n",
       "1079                 37.5                 278.0  0.99316  3.01       0.51   \n",
       "326                   6.0                  14.0  0.99780  3.05       0.74   \n",
       "916                   7.0                  62.0  0.99395  3.62       0.61   \n",
       "1582                 13.0                  27.0  0.99362  3.57       0.50   \n",
       "442                   6.0                  43.0  1.00320  2.95       0.68   \n",
       "801                   8.0                  17.0  0.99735  3.23       0.44   \n",
       "401                  20.0                  38.0  0.99490  3.29       0.47   \n",
       "1376                  7.0                  31.0  0.99460  3.11       0.46   \n",
       "\n",
       "      alcohol  quality  \n",
       "1166     10.2        5  \n",
       "353      13.0        5  \n",
       "1079     12.3        7  \n",
       "326      11.5        7  \n",
       "916      11.0        5  \n",
       "1582     11.9        5  \n",
       "442      11.2        7  \n",
       "801      10.0        5  \n",
       "401      10.8        6  \n",
       "1376     10.0        5  "
      ]
     },
     "execution_count": 35,
     "metadata": {},
     "output_type": "execute_result"
    }
   ],
   "source": [
    "# Display randomly selected 10 rows\n",
    "wine_dataset.sample(10, random_state=999)"
   ]
  },
  {
   "cell_type": "code",
   "execution_count": 36,
   "metadata": {},
   "outputs": [
    {
     "name": "stdout",
     "output_type": "stream",
     "text": [
      "<class 'pandas.core.frame.DataFrame'>\n",
      "RangeIndex: 1599 entries, 0 to 1598\n",
      "Data columns (total 12 columns):\n",
      " #   Column                Non-Null Count  Dtype  \n",
      "---  ------                --------------  -----  \n",
      " 0   fixed acidity         1599 non-null   float64\n",
      " 1   volatile acidity      1599 non-null   float64\n",
      " 2   citric acid           1599 non-null   float64\n",
      " 3   residual sugar        1599 non-null   float64\n",
      " 4   chlorides             1599 non-null   float64\n",
      " 5   free sulfur dioxide   1599 non-null   float64\n",
      " 6   total sulfur dioxide  1599 non-null   float64\n",
      " 7   density               1599 non-null   float64\n",
      " 8   pH                    1599 non-null   float64\n",
      " 9   sulphates             1599 non-null   float64\n",
      " 10  alcohol               1599 non-null   float64\n",
      " 11  quality               1599 non-null   int64  \n",
      "dtypes: float64(11), int64(1)\n",
      "memory usage: 150.0 KB\n"
     ]
    }
   ],
   "source": [
    "wine_dataset.info()"
   ]
  },
  {
   "cell_type": "markdown",
   "metadata": {},
   "source": [
    "### Data Cleaning"
   ]
  },
  {
   "cell_type": "code",
   "execution_count": 37,
   "metadata": {},
   "outputs": [
    {
     "name": "stdout",
     "output_type": "stream",
     "text": [
      "Check duplications: \n"
     ]
    },
    {
     "data": {
      "text/plain": [
       "0       False\n",
       "1       False\n",
       "2       False\n",
       "3       False\n",
       "4        True\n",
       "        ...  \n",
       "1594    False\n",
       "1595    False\n",
       "1596     True\n",
       "1597    False\n",
       "1598    False\n",
       "Length: 1599, dtype: bool"
      ]
     },
     "execution_count": 37,
     "metadata": {},
     "output_type": "execute_result"
    }
   ],
   "source": [
    "print(f\"Check duplications: \")\n",
    "wine_dataset.duplicated()"
   ]
  },
  {
   "cell_type": "code",
   "execution_count": 38,
   "metadata": {},
   "outputs": [
    {
     "name": "stdout",
     "output_type": "stream",
     "text": [
      "Number of duplications \n"
     ]
    },
    {
     "data": {
      "text/plain": [
       "240"
      ]
     },
     "execution_count": 38,
     "metadata": {},
     "output_type": "execute_result"
    }
   ],
   "source": [
    "print(f\"Number of duplications \")\n",
    "wine_dataset.duplicated().sum()"
   ]
  },
  {
   "cell_type": "code",
   "execution_count": 39,
   "metadata": {},
   "outputs": [
    {
     "name": "stdout",
     "output_type": "stream",
     "text": [
      "Remove duplicated values and new dataset called 'df' \n"
     ]
    }
   ],
   "source": [
    "print(f\"Remove duplicated values and new dataset called 'df' \")\n",
    "winedata = wine_dataset.drop_duplicates(inplace=False)"
   ]
  },
  {
   "cell_type": "code",
   "execution_count": 40,
   "metadata": {},
   "outputs": [
    {
     "name": "stdout",
     "output_type": "stream",
     "text": [
      "The shape of the data after droping duplication (1359, 12)\n"
     ]
    }
   ],
   "source": [
    "print(f\"The shape of the data after droping duplication {winedata.shape}\")"
   ]
  },
  {
   "cell_type": "code",
   "execution_count": 41,
   "metadata": {},
   "outputs": [
    {
     "data": {
      "text/html": [
       "<div>\n",
       "<style scoped>\n",
       "    .dataframe tbody tr th:only-of-type {\n",
       "        vertical-align: middle;\n",
       "    }\n",
       "\n",
       "    .dataframe tbody tr th {\n",
       "        vertical-align: top;\n",
       "    }\n",
       "\n",
       "    .dataframe thead th {\n",
       "        text-align: right;\n",
       "    }\n",
       "</style>\n",
       "<table border=\"1\" class=\"dataframe\">\n",
       "  <thead>\n",
       "    <tr style=\"text-align: right;\">\n",
       "      <th></th>\n",
       "      <th>fixed acidity</th>\n",
       "      <th>volatile acidity</th>\n",
       "      <th>citric acid</th>\n",
       "      <th>residual sugar</th>\n",
       "      <th>chlorides</th>\n",
       "      <th>free sulfur dioxide</th>\n",
       "      <th>total sulfur dioxide</th>\n",
       "      <th>density</th>\n",
       "      <th>pH</th>\n",
       "      <th>sulphates</th>\n",
       "      <th>alcohol</th>\n",
       "      <th>quality</th>\n",
       "    </tr>\n",
       "  </thead>\n",
       "  <tbody>\n",
       "    <tr>\n",
       "      <th>count</th>\n",
       "      <td>1359.000000</td>\n",
       "      <td>1359.000000</td>\n",
       "      <td>1359.000000</td>\n",
       "      <td>1359.000000</td>\n",
       "      <td>1359.000000</td>\n",
       "      <td>1359.000000</td>\n",
       "      <td>1359.000000</td>\n",
       "      <td>1359.000000</td>\n",
       "      <td>1359.000000</td>\n",
       "      <td>1359.000000</td>\n",
       "      <td>1359.000000</td>\n",
       "      <td>1359.000000</td>\n",
       "    </tr>\n",
       "    <tr>\n",
       "      <th>mean</th>\n",
       "      <td>8.310596</td>\n",
       "      <td>0.529478</td>\n",
       "      <td>0.272333</td>\n",
       "      <td>2.523400</td>\n",
       "      <td>0.088124</td>\n",
       "      <td>15.893304</td>\n",
       "      <td>46.825975</td>\n",
       "      <td>0.996709</td>\n",
       "      <td>3.309787</td>\n",
       "      <td>0.658705</td>\n",
       "      <td>10.432315</td>\n",
       "      <td>5.623252</td>\n",
       "    </tr>\n",
       "    <tr>\n",
       "      <th>std</th>\n",
       "      <td>1.736990</td>\n",
       "      <td>0.183031</td>\n",
       "      <td>0.195537</td>\n",
       "      <td>1.352314</td>\n",
       "      <td>0.049377</td>\n",
       "      <td>10.447270</td>\n",
       "      <td>33.408946</td>\n",
       "      <td>0.001869</td>\n",
       "      <td>0.155036</td>\n",
       "      <td>0.170667</td>\n",
       "      <td>1.082065</td>\n",
       "      <td>0.823578</td>\n",
       "    </tr>\n",
       "    <tr>\n",
       "      <th>min</th>\n",
       "      <td>4.600000</td>\n",
       "      <td>0.120000</td>\n",
       "      <td>0.000000</td>\n",
       "      <td>0.900000</td>\n",
       "      <td>0.012000</td>\n",
       "      <td>1.000000</td>\n",
       "      <td>6.000000</td>\n",
       "      <td>0.990070</td>\n",
       "      <td>2.740000</td>\n",
       "      <td>0.330000</td>\n",
       "      <td>8.400000</td>\n",
       "      <td>3.000000</td>\n",
       "    </tr>\n",
       "    <tr>\n",
       "      <th>25%</th>\n",
       "      <td>7.100000</td>\n",
       "      <td>0.390000</td>\n",
       "      <td>0.090000</td>\n",
       "      <td>1.900000</td>\n",
       "      <td>0.070000</td>\n",
       "      <td>7.000000</td>\n",
       "      <td>22.000000</td>\n",
       "      <td>0.995600</td>\n",
       "      <td>3.210000</td>\n",
       "      <td>0.550000</td>\n",
       "      <td>9.500000</td>\n",
       "      <td>5.000000</td>\n",
       "    </tr>\n",
       "    <tr>\n",
       "      <th>50%</th>\n",
       "      <td>7.900000</td>\n",
       "      <td>0.520000</td>\n",
       "      <td>0.260000</td>\n",
       "      <td>2.200000</td>\n",
       "      <td>0.079000</td>\n",
       "      <td>14.000000</td>\n",
       "      <td>38.000000</td>\n",
       "      <td>0.996700</td>\n",
       "      <td>3.310000</td>\n",
       "      <td>0.620000</td>\n",
       "      <td>10.200000</td>\n",
       "      <td>6.000000</td>\n",
       "    </tr>\n",
       "    <tr>\n",
       "      <th>75%</th>\n",
       "      <td>9.200000</td>\n",
       "      <td>0.640000</td>\n",
       "      <td>0.430000</td>\n",
       "      <td>2.600000</td>\n",
       "      <td>0.091000</td>\n",
       "      <td>21.000000</td>\n",
       "      <td>63.000000</td>\n",
       "      <td>0.997820</td>\n",
       "      <td>3.400000</td>\n",
       "      <td>0.730000</td>\n",
       "      <td>11.100000</td>\n",
       "      <td>6.000000</td>\n",
       "    </tr>\n",
       "    <tr>\n",
       "      <th>max</th>\n",
       "      <td>15.900000</td>\n",
       "      <td>1.580000</td>\n",
       "      <td>1.000000</td>\n",
       "      <td>15.500000</td>\n",
       "      <td>0.611000</td>\n",
       "      <td>72.000000</td>\n",
       "      <td>289.000000</td>\n",
       "      <td>1.003690</td>\n",
       "      <td>4.010000</td>\n",
       "      <td>2.000000</td>\n",
       "      <td>14.900000</td>\n",
       "      <td>8.000000</td>\n",
       "    </tr>\n",
       "  </tbody>\n",
       "</table>\n",
       "</div>"
      ],
      "text/plain": [
       "       fixed acidity  volatile acidity  citric acid  residual sugar  \\\n",
       "count    1359.000000       1359.000000  1359.000000     1359.000000   \n",
       "mean        8.310596          0.529478     0.272333        2.523400   \n",
       "std         1.736990          0.183031     0.195537        1.352314   \n",
       "min         4.600000          0.120000     0.000000        0.900000   \n",
       "25%         7.100000          0.390000     0.090000        1.900000   \n",
       "50%         7.900000          0.520000     0.260000        2.200000   \n",
       "75%         9.200000          0.640000     0.430000        2.600000   \n",
       "max        15.900000          1.580000     1.000000       15.500000   \n",
       "\n",
       "         chlorides  free sulfur dioxide  total sulfur dioxide      density  \\\n",
       "count  1359.000000          1359.000000           1359.000000  1359.000000   \n",
       "mean      0.088124            15.893304             46.825975     0.996709   \n",
       "std       0.049377            10.447270             33.408946     0.001869   \n",
       "min       0.012000             1.000000              6.000000     0.990070   \n",
       "25%       0.070000             7.000000             22.000000     0.995600   \n",
       "50%       0.079000            14.000000             38.000000     0.996700   \n",
       "75%       0.091000            21.000000             63.000000     0.997820   \n",
       "max       0.611000            72.000000            289.000000     1.003690   \n",
       "\n",
       "                pH    sulphates      alcohol      quality  \n",
       "count  1359.000000  1359.000000  1359.000000  1359.000000  \n",
       "mean      3.309787     0.658705    10.432315     5.623252  \n",
       "std       0.155036     0.170667     1.082065     0.823578  \n",
       "min       2.740000     0.330000     8.400000     3.000000  \n",
       "25%       3.210000     0.550000     9.500000     5.000000  \n",
       "50%       3.310000     0.620000    10.200000     6.000000  \n",
       "75%       3.400000     0.730000    11.100000     6.000000  \n",
       "max       4.010000     2.000000    14.900000     8.000000  "
      ]
     },
     "execution_count": 41,
     "metadata": {},
     "output_type": "execute_result"
    }
   ],
   "source": [
    "winedata.describe()"
   ]
  },
  {
   "cell_type": "code",
   "execution_count": 42,
   "metadata": {},
   "outputs": [
    {
     "data": {
      "text/html": [
       "<div>\n",
       "<style scoped>\n",
       "    .dataframe tbody tr th:only-of-type {\n",
       "        vertical-align: middle;\n",
       "    }\n",
       "\n",
       "    .dataframe tbody tr th {\n",
       "        vertical-align: top;\n",
       "    }\n",
       "\n",
       "    .dataframe thead th {\n",
       "        text-align: right;\n",
       "    }\n",
       "</style>\n",
       "<table border=\"1\" class=\"dataframe\">\n",
       "  <thead>\n",
       "    <tr style=\"text-align: right;\">\n",
       "      <th></th>\n",
       "      <th>fixed acidity</th>\n",
       "      <th>volatile acidity</th>\n",
       "      <th>citric acid</th>\n",
       "      <th>residual sugar</th>\n",
       "      <th>chlorides</th>\n",
       "      <th>free sulfur dioxide</th>\n",
       "      <th>total sulfur dioxide</th>\n",
       "      <th>density</th>\n",
       "      <th>pH</th>\n",
       "      <th>sulphates</th>\n",
       "      <th>alcohol</th>\n",
       "      <th>quality</th>\n",
       "    </tr>\n",
       "  </thead>\n",
       "  <tbody>\n",
       "    <tr>\n",
       "      <th>count</th>\n",
       "      <td>1359.000</td>\n",
       "      <td>1359.000</td>\n",
       "      <td>1359.000</td>\n",
       "      <td>1359.000</td>\n",
       "      <td>1359.000</td>\n",
       "      <td>1359.000</td>\n",
       "      <td>1359.000</td>\n",
       "      <td>1359.000</td>\n",
       "      <td>1359.000</td>\n",
       "      <td>1359.000</td>\n",
       "      <td>1359.000</td>\n",
       "      <td>1359.000</td>\n",
       "    </tr>\n",
       "    <tr>\n",
       "      <th>mean</th>\n",
       "      <td>8.311</td>\n",
       "      <td>0.529</td>\n",
       "      <td>0.272</td>\n",
       "      <td>2.523</td>\n",
       "      <td>0.088</td>\n",
       "      <td>15.893</td>\n",
       "      <td>46.826</td>\n",
       "      <td>0.997</td>\n",
       "      <td>3.310</td>\n",
       "      <td>0.659</td>\n",
       "      <td>10.432</td>\n",
       "      <td>5.623</td>\n",
       "    </tr>\n",
       "    <tr>\n",
       "      <th>std</th>\n",
       "      <td>1.737</td>\n",
       "      <td>0.183</td>\n",
       "      <td>0.196</td>\n",
       "      <td>1.352</td>\n",
       "      <td>0.049</td>\n",
       "      <td>10.447</td>\n",
       "      <td>33.409</td>\n",
       "      <td>0.002</td>\n",
       "      <td>0.155</td>\n",
       "      <td>0.171</td>\n",
       "      <td>1.082</td>\n",
       "      <td>0.824</td>\n",
       "    </tr>\n",
       "    <tr>\n",
       "      <th>min</th>\n",
       "      <td>4.600</td>\n",
       "      <td>0.120</td>\n",
       "      <td>0.000</td>\n",
       "      <td>0.900</td>\n",
       "      <td>0.012</td>\n",
       "      <td>1.000</td>\n",
       "      <td>6.000</td>\n",
       "      <td>0.990</td>\n",
       "      <td>2.740</td>\n",
       "      <td>0.330</td>\n",
       "      <td>8.400</td>\n",
       "      <td>3.000</td>\n",
       "    </tr>\n",
       "    <tr>\n",
       "      <th>25%</th>\n",
       "      <td>7.100</td>\n",
       "      <td>0.390</td>\n",
       "      <td>0.090</td>\n",
       "      <td>1.900</td>\n",
       "      <td>0.070</td>\n",
       "      <td>7.000</td>\n",
       "      <td>22.000</td>\n",
       "      <td>0.996</td>\n",
       "      <td>3.210</td>\n",
       "      <td>0.550</td>\n",
       "      <td>9.500</td>\n",
       "      <td>5.000</td>\n",
       "    </tr>\n",
       "    <tr>\n",
       "      <th>50%</th>\n",
       "      <td>7.900</td>\n",
       "      <td>0.520</td>\n",
       "      <td>0.260</td>\n",
       "      <td>2.200</td>\n",
       "      <td>0.079</td>\n",
       "      <td>14.000</td>\n",
       "      <td>38.000</td>\n",
       "      <td>0.997</td>\n",
       "      <td>3.310</td>\n",
       "      <td>0.620</td>\n",
       "      <td>10.200</td>\n",
       "      <td>6.000</td>\n",
       "    </tr>\n",
       "    <tr>\n",
       "      <th>75%</th>\n",
       "      <td>9.200</td>\n",
       "      <td>0.640</td>\n",
       "      <td>0.430</td>\n",
       "      <td>2.600</td>\n",
       "      <td>0.091</td>\n",
       "      <td>21.000</td>\n",
       "      <td>63.000</td>\n",
       "      <td>0.998</td>\n",
       "      <td>3.400</td>\n",
       "      <td>0.730</td>\n",
       "      <td>11.100</td>\n",
       "      <td>6.000</td>\n",
       "    </tr>\n",
       "    <tr>\n",
       "      <th>max</th>\n",
       "      <td>15.900</td>\n",
       "      <td>1.580</td>\n",
       "      <td>1.000</td>\n",
       "      <td>15.500</td>\n",
       "      <td>0.611</td>\n",
       "      <td>72.000</td>\n",
       "      <td>289.000</td>\n",
       "      <td>1.004</td>\n",
       "      <td>4.010</td>\n",
       "      <td>2.000</td>\n",
       "      <td>14.900</td>\n",
       "      <td>8.000</td>\n",
       "    </tr>\n",
       "  </tbody>\n",
       "</table>\n",
       "</div>"
      ],
      "text/plain": [
       "       fixed acidity  volatile acidity  citric acid  residual sugar  \\\n",
       "count       1359.000          1359.000     1359.000        1359.000   \n",
       "mean           8.311             0.529        0.272           2.523   \n",
       "std            1.737             0.183        0.196           1.352   \n",
       "min            4.600             0.120        0.000           0.900   \n",
       "25%            7.100             0.390        0.090           1.900   \n",
       "50%            7.900             0.520        0.260           2.200   \n",
       "75%            9.200             0.640        0.430           2.600   \n",
       "max           15.900             1.580        1.000          15.500   \n",
       "\n",
       "       chlorides  free sulfur dioxide  total sulfur dioxide   density  \\\n",
       "count   1359.000             1359.000              1359.000  1359.000   \n",
       "mean       0.088               15.893                46.826     0.997   \n",
       "std        0.049               10.447                33.409     0.002   \n",
       "min        0.012                1.000                 6.000     0.990   \n",
       "25%        0.070                7.000                22.000     0.996   \n",
       "50%        0.079               14.000                38.000     0.997   \n",
       "75%        0.091               21.000                63.000     0.998   \n",
       "max        0.611               72.000               289.000     1.004   \n",
       "\n",
       "             pH  sulphates   alcohol   quality  \n",
       "count  1359.000   1359.000  1359.000  1359.000  \n",
       "mean      3.310      0.659    10.432     5.623  \n",
       "std       0.155      0.171     1.082     0.824  \n",
       "min       2.740      0.330     8.400     3.000  \n",
       "25%       3.210      0.550     9.500     5.000  \n",
       "50%       3.310      0.620    10.200     6.000  \n",
       "75%       3.400      0.730    11.100     6.000  \n",
       "max       4.010      2.000    14.900     8.000  "
      ]
     },
     "execution_count": 42,
     "metadata": {},
     "output_type": "execute_result"
    }
   ],
   "source": [
    "winedata.describe(include = np.number).round(3)  # numerical features"
   ]
  },
  {
   "cell_type": "code",
   "execution_count": 43,
   "metadata": {},
   "outputs": [
    {
     "name": "stdout",
     "output_type": "stream",
     "text": [
      "Number of data from quanlity \n"
     ]
    },
    {
     "data": {
      "text/plain": [
       "5    577\n",
       "6    535\n",
       "7    167\n",
       "4     53\n",
       "8     17\n",
       "3     10\n",
       "Name: quality, dtype: int64"
      ]
     },
     "execution_count": 43,
     "metadata": {},
     "output_type": "execute_result"
    }
   ],
   "source": [
    "print(f\"Number of data from quanlity \")\n",
    "winedata['quality'].value_counts()"
   ]
  },
  {
   "cell_type": "markdown",
   "metadata": {},
   "source": [
    "### Checking for Missing Values"
   ]
  },
  {
   "cell_type": "code",
   "execution_count": 44,
   "metadata": {},
   "outputs": [
    {
     "name": "stdout",
     "output_type": "stream",
     "text": [
      "Check if there is any null values.\n",
      "\n"
     ]
    },
    {
     "data": {
      "text/plain": [
       "fixed acidity           0\n",
       "volatile acidity        0\n",
       "citric acid             0\n",
       "residual sugar          0\n",
       "chlorides               0\n",
       "free sulfur dioxide     0\n",
       "total sulfur dioxide    0\n",
       "density                 0\n",
       "pH                      0\n",
       "sulphates               0\n",
       "alcohol                 0\n",
       "quality                 0\n",
       "dtype: int64"
      ]
     },
     "execution_count": 44,
     "metadata": {},
     "output_type": "execute_result"
    }
   ],
   "source": [
    "print(f\"Check if there is any null values.\\n\")\n",
    "winedata.isnull().sum()"
   ]
  },
  {
   "cell_type": "markdown",
   "metadata": {},
   "source": [
    "### Check data types"
   ]
  },
  {
   "cell_type": "code",
   "execution_count": 45,
   "metadata": {},
   "outputs": [
    {
     "name": "stdout",
     "output_type": "stream",
     "text": [
      "Data types:\n"
     ]
    },
    {
     "data": {
      "text/plain": [
       "fixed acidity           float64\n",
       "volatile acidity        float64\n",
       "citric acid             float64\n",
       "residual sugar          float64\n",
       "chlorides               float64\n",
       "free sulfur dioxide     float64\n",
       "total sulfur dioxide    float64\n",
       "density                 float64\n",
       "pH                      float64\n",
       "sulphates               float64\n",
       "alcohol                 float64\n",
       "quality                   int64\n",
       "dtype: object"
      ]
     },
     "execution_count": 45,
     "metadata": {},
     "output_type": "execute_result"
    }
   ],
   "source": [
    "print(f\"Data types:\")\n",
    "winedata.dtypes"
   ]
  },
  {
   "cell_type": "markdown",
   "metadata": {},
   "source": [
    "### Summary Statistics"
   ]
  },
  {
   "cell_type": "code",
   "execution_count": 46,
   "metadata": {},
   "outputs": [
    {
     "data": {
      "text/html": [
       "<b>Table 1: Summary of continuous features</b>"
      ],
      "text/plain": [
       "<IPython.core.display.HTML object>"
      ]
     },
     "metadata": {},
     "output_type": "display_data"
    },
    {
     "data": {
      "text/html": [
       "<div>\n",
       "<style scoped>\n",
       "    .dataframe tbody tr th:only-of-type {\n",
       "        vertical-align: middle;\n",
       "    }\n",
       "\n",
       "    .dataframe tbody tr th {\n",
       "        vertical-align: top;\n",
       "    }\n",
       "\n",
       "    .dataframe thead th {\n",
       "        text-align: right;\n",
       "    }\n",
       "</style>\n",
       "<table border=\"1\" class=\"dataframe\">\n",
       "  <thead>\n",
       "    <tr style=\"text-align: right;\">\n",
       "      <th></th>\n",
       "      <th>fixed acidity</th>\n",
       "      <th>volatile acidity</th>\n",
       "      <th>citric acid</th>\n",
       "      <th>residual sugar</th>\n",
       "      <th>chlorides</th>\n",
       "      <th>free sulfur dioxide</th>\n",
       "      <th>total sulfur dioxide</th>\n",
       "      <th>density</th>\n",
       "      <th>pH</th>\n",
       "      <th>sulphates</th>\n",
       "      <th>alcohol</th>\n",
       "      <th>quality</th>\n",
       "    </tr>\n",
       "  </thead>\n",
       "  <tbody>\n",
       "    <tr>\n",
       "      <th>count</th>\n",
       "      <td>1359.000000</td>\n",
       "      <td>1359.000000</td>\n",
       "      <td>1359.000000</td>\n",
       "      <td>1359.000000</td>\n",
       "      <td>1359.000000</td>\n",
       "      <td>1359.000000</td>\n",
       "      <td>1359.000000</td>\n",
       "      <td>1359.000000</td>\n",
       "      <td>1359.000000</td>\n",
       "      <td>1359.000000</td>\n",
       "      <td>1359.000000</td>\n",
       "      <td>1359.000000</td>\n",
       "    </tr>\n",
       "    <tr>\n",
       "      <th>mean</th>\n",
       "      <td>8.310596</td>\n",
       "      <td>0.529478</td>\n",
       "      <td>0.272333</td>\n",
       "      <td>2.523400</td>\n",
       "      <td>0.088124</td>\n",
       "      <td>15.893304</td>\n",
       "      <td>46.825975</td>\n",
       "      <td>0.996709</td>\n",
       "      <td>3.309787</td>\n",
       "      <td>0.658705</td>\n",
       "      <td>10.432315</td>\n",
       "      <td>5.623252</td>\n",
       "    </tr>\n",
       "    <tr>\n",
       "      <th>std</th>\n",
       "      <td>1.736990</td>\n",
       "      <td>0.183031</td>\n",
       "      <td>0.195537</td>\n",
       "      <td>1.352314</td>\n",
       "      <td>0.049377</td>\n",
       "      <td>10.447270</td>\n",
       "      <td>33.408946</td>\n",
       "      <td>0.001869</td>\n",
       "      <td>0.155036</td>\n",
       "      <td>0.170667</td>\n",
       "      <td>1.082065</td>\n",
       "      <td>0.823578</td>\n",
       "    </tr>\n",
       "    <tr>\n",
       "      <th>min</th>\n",
       "      <td>4.600000</td>\n",
       "      <td>0.120000</td>\n",
       "      <td>0.000000</td>\n",
       "      <td>0.900000</td>\n",
       "      <td>0.012000</td>\n",
       "      <td>1.000000</td>\n",
       "      <td>6.000000</td>\n",
       "      <td>0.990070</td>\n",
       "      <td>2.740000</td>\n",
       "      <td>0.330000</td>\n",
       "      <td>8.400000</td>\n",
       "      <td>3.000000</td>\n",
       "    </tr>\n",
       "    <tr>\n",
       "      <th>25%</th>\n",
       "      <td>7.100000</td>\n",
       "      <td>0.390000</td>\n",
       "      <td>0.090000</td>\n",
       "      <td>1.900000</td>\n",
       "      <td>0.070000</td>\n",
       "      <td>7.000000</td>\n",
       "      <td>22.000000</td>\n",
       "      <td>0.995600</td>\n",
       "      <td>3.210000</td>\n",
       "      <td>0.550000</td>\n",
       "      <td>9.500000</td>\n",
       "      <td>5.000000</td>\n",
       "    </tr>\n",
       "    <tr>\n",
       "      <th>50%</th>\n",
       "      <td>7.900000</td>\n",
       "      <td>0.520000</td>\n",
       "      <td>0.260000</td>\n",
       "      <td>2.200000</td>\n",
       "      <td>0.079000</td>\n",
       "      <td>14.000000</td>\n",
       "      <td>38.000000</td>\n",
       "      <td>0.996700</td>\n",
       "      <td>3.310000</td>\n",
       "      <td>0.620000</td>\n",
       "      <td>10.200000</td>\n",
       "      <td>6.000000</td>\n",
       "    </tr>\n",
       "    <tr>\n",
       "      <th>75%</th>\n",
       "      <td>9.200000</td>\n",
       "      <td>0.640000</td>\n",
       "      <td>0.430000</td>\n",
       "      <td>2.600000</td>\n",
       "      <td>0.091000</td>\n",
       "      <td>21.000000</td>\n",
       "      <td>63.000000</td>\n",
       "      <td>0.997820</td>\n",
       "      <td>3.400000</td>\n",
       "      <td>0.730000</td>\n",
       "      <td>11.100000</td>\n",
       "      <td>6.000000</td>\n",
       "    </tr>\n",
       "    <tr>\n",
       "      <th>max</th>\n",
       "      <td>15.900000</td>\n",
       "      <td>1.580000</td>\n",
       "      <td>1.000000</td>\n",
       "      <td>15.500000</td>\n",
       "      <td>0.611000</td>\n",
       "      <td>72.000000</td>\n",
       "      <td>289.000000</td>\n",
       "      <td>1.003690</td>\n",
       "      <td>4.010000</td>\n",
       "      <td>2.000000</td>\n",
       "      <td>14.900000</td>\n",
       "      <td>8.000000</td>\n",
       "    </tr>\n",
       "  </tbody>\n",
       "</table>\n",
       "</div>"
      ],
      "text/plain": [
       "       fixed acidity  volatile acidity  citric acid  residual sugar  \\\n",
       "count    1359.000000       1359.000000  1359.000000     1359.000000   \n",
       "mean        8.310596          0.529478     0.272333        2.523400   \n",
       "std         1.736990          0.183031     0.195537        1.352314   \n",
       "min         4.600000          0.120000     0.000000        0.900000   \n",
       "25%         7.100000          0.390000     0.090000        1.900000   \n",
       "50%         7.900000          0.520000     0.260000        2.200000   \n",
       "75%         9.200000          0.640000     0.430000        2.600000   \n",
       "max        15.900000          1.580000     1.000000       15.500000   \n",
       "\n",
       "         chlorides  free sulfur dioxide  total sulfur dioxide      density  \\\n",
       "count  1359.000000          1359.000000           1359.000000  1359.000000   \n",
       "mean      0.088124            15.893304             46.825975     0.996709   \n",
       "std       0.049377            10.447270             33.408946     0.001869   \n",
       "min       0.012000             1.000000              6.000000     0.990070   \n",
       "25%       0.070000             7.000000             22.000000     0.995600   \n",
       "50%       0.079000            14.000000             38.000000     0.996700   \n",
       "75%       0.091000            21.000000             63.000000     0.997820   \n",
       "max       0.611000            72.000000            289.000000     1.003690   \n",
       "\n",
       "                pH    sulphates      alcohol      quality  \n",
       "count  1359.000000  1359.000000  1359.000000  1359.000000  \n",
       "mean      3.309787     0.658705    10.432315     5.623252  \n",
       "std       0.155036     0.170667     1.082065     0.823578  \n",
       "min       2.740000     0.330000     8.400000     3.000000  \n",
       "25%       3.210000     0.550000     9.500000     5.000000  \n",
       "50%       3.310000     0.620000    10.200000     6.000000  \n",
       "75%       3.400000     0.730000    11.100000     6.000000  \n",
       "max       4.010000     2.000000    14.900000     8.000000  "
      ]
     },
     "execution_count": 46,
     "metadata": {},
     "output_type": "execute_result"
    }
   ],
   "source": [
    "from IPython.display import display, HTML\n",
    "display(HTML('<b>Table 1: Summary of continuous features</b>'))\n",
    "winedata.describe(include=['int64','float64'])"
   ]
  },
  {
   "cell_type": "markdown",
   "metadata": {},
   "source": [
    "## Data exploration"
   ]
  },
  {
   "cell_type": "code",
   "execution_count": 15,
   "metadata": {},
   "outputs": [
    {
     "data": {
      "text/plain": [
       "Text(0.5, 1.0, 'Figure: Countplot of Quality')"
      ]
     },
     "execution_count": 15,
     "metadata": {},
     "output_type": "execute_result"
    },
    {
     "data": {
      "image/png": "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\n",
      "text/plain": [
       "<Figure size 432x288 with 1 Axes>"
      ]
     },
     "metadata": {
      "needs_background": "light"
     },
     "output_type": "display_data"
    }
   ],
   "source": [
    "sns.countplot(x= 'quality', data = winedata).set_title('Figure: Countplot of Quality', fontsize = 15)"
   ]
  },
  {
   "cell_type": "code",
   "execution_count": 16,
   "metadata": {},
   "outputs": [
    {
     "data": {
      "text/plain": [
       "Text(0.5, 1.0, 'Figure: Boxplot of Quality')"
      ]
     },
     "execution_count": 16,
     "metadata": {},
     "output_type": "execute_result"
    },
    {
     "data": {
      "image/png": "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\n",
      "text/plain": [
       "<Figure size 432x288 with 1 Axes>"
      ]
     },
     "metadata": {
      "needs_background": "light"
     },
     "output_type": "display_data"
    }
   ],
   "source": [
    "sns.boxplot(winedata['quality'],winedata['fixed acidity']).set_title('Figure: Boxplot of Quality', fontsize = 15)\n"
   ]
  },
  {
   "cell_type": "code",
   "execution_count": 17,
   "metadata": {},
   "outputs": [
    {
     "data": {
      "image/png": "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\n",
      "text/plain": [
       "<Figure size 432x288 with 1 Axes>"
      ]
     },
     "metadata": {
      "needs_background": "light"
     },
     "output_type": "display_data"
    }
   ],
   "source": [
    "sns.distplot(winedata['quality'], kde = True).set_title('Figure: Histogram of Quality', fontsize = 15)\n",
    "plt.show();"
   ]
  },
  {
   "cell_type": "markdown",
   "metadata": {},
   "source": [
    "\n",
    "#### Analysis of pH in different type of wine"
   ]
  },
  {
   "cell_type": "code",
   "execution_count": 18,
   "metadata": {},
   "outputs": [
    {
     "data": {
      "text/plain": [
       "average    1112\n",
       "good        184\n",
       "bad          63\n",
       "Name: rate, dtype: int64"
      ]
     },
     "execution_count": 18,
     "metadata": {},
     "output_type": "execute_result"
    }
   ],
   "source": [
    "rate = ['good','bad']\n",
    "condition = [(winedata['quality'] > 6),\n",
    "            (winedata['quality'] < 5)]\n",
    "winedata['rate'] = np.select(condition, rate, default='average')\n",
    "winedata.rate.value_counts()"
   ]
  },
  {
   "cell_type": "markdown",
   "metadata": {},
   "source": [
    "sns.swarmplot(x = \"rate\", y=\"pH\", data = winedata)"
   ]
  },
  {
   "cell_type": "markdown",
   "metadata": {},
   "source": [
    "#### Analysis of Residual Sugar and Alcohol in different type of wine"
   ]
  },
  {
   "cell_type": "markdown",
   "metadata": {},
   "source": [
    "These three 3 figures below are lmplots of residual sugar by alcohol."
   ]
  },
  {
   "cell_type": "code",
   "execution_count": 19,
   "metadata": {},
   "outputs": [
    {
     "data": {
      "text/plain": [
       "<seaborn.axisgrid.FacetGrid at 0x23d62c9fac8>"
      ]
     },
     "execution_count": 19,
     "metadata": {},
     "output_type": "execute_result"
    },
    {
     "data": {
      "image/png": "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\n",
      "text/plain": [
       "<Figure size 1080x360 with 3 Axes>"
      ]
     },
     "metadata": {
      "needs_background": "light"
     },
     "output_type": "display_data"
    }
   ],
   "source": [
    "sns.lmplot(x = \"alcohol\", y = \"residual sugar\", col = \"rate\", data = winedata)"
   ]
  },
  {
   "cell_type": "markdown",
   "metadata": {},
   "source": [
    "Above diagrams are lmplots of residual sugar by alcohol."
   ]
  },
  {
   "cell_type": "markdown",
   "metadata": {},
   "source": [
    "#### Anylization of quality rate and sulfur dioxide"
   ]
  },
  {
   "cell_type": "code",
   "execution_count": 20,
   "metadata": {
    "scrolled": true
   },
   "outputs": [
    {
     "data": {
      "image/png": "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\n",
      "text/plain": [
       "<Figure size 432x288 with 1 Axes>"
      ]
     },
     "metadata": {
      "needs_background": "light"
     },
     "output_type": "display_data"
    }
   ],
   "source": [
    "sns.boxplot(winedata['rate'],winedata['free sulfur dioxide']);\n",
    "plt.title('Figure : Boxplot of free sulfur dioxide by quality rate', fontsize = 16)\n",
    "plt.show();"
   ]
  },
  {
   "cell_type": "code",
   "execution_count": 21,
   "metadata": {},
   "outputs": [
    {
     "data": {
      "image/png": "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\n",
      "text/plain": [
       "<Figure size 432x288 with 1 Axes>"
      ]
     },
     "metadata": {
      "needs_background": "light"
     },
     "output_type": "display_data"
    }
   ],
   "source": [
    "sns.boxplot(winedata['rate'],winedata['total sulfur dioxide']);\n",
    "plt.title('Figure : Boxplot of total sulfur dioxide by quality rate', fontsize = 16)\n",
    "plt.show();"
   ]
  },
  {
   "cell_type": "code",
   "execution_count": 22,
   "metadata": {
    "scrolled": false
   },
   "outputs": [
    {
     "data": {
      "text/plain": [
       "Text(0.5, 1, 'Figure :  Releationship between alcohol and quality')"
      ]
     },
     "execution_count": 22,
     "metadata": {},
     "output_type": "execute_result"
    },
    {
     "data": {
      "image/png": "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\n",
      "text/plain": [
       "<Figure size 504x504 with 3 Axes>"
      ]
     },
     "metadata": {
      "needs_background": "light"
     },
     "output_type": "display_data"
    }
   ],
   "source": [
    "sns.jointplot(data=winedata,x = \"quality\",y = \"alcohol\",kind = \"reg\",truncate=False,color = \"r\",height = 7)\n",
    "plt.title('Figure :  Releationship between alcohol and quality', fontsize = 10)"
   ]
  },
  {
   "cell_type": "code",
   "execution_count": 23,
   "metadata": {},
   "outputs": [
    {
     "data": {
      "text/plain": [
       "Text(0.5, 1, 'Figure :  Heatmap of red wine data')"
      ]
     },
     "execution_count": 23,
     "metadata": {},
     "output_type": "execute_result"
    },
    {
     "data": {
      "image/png": "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\n",
      "text/plain": [
       "<Figure size 2160x864 with 2 Axes>"
      ]
     },
     "metadata": {
      "needs_background": "light"
     },
     "output_type": "display_data"
    }
   ],
   "source": [
    "cor_mat= winedata.corr()\n",
    "mask = np.array(cor_mat)\n",
    "mask[np.tril_indices_from(mask)] = False\n",
    "fig=plt.gcf()\n",
    "fig.set_size_inches(30,12)\n",
    "sns.heatmap(data=cor_mat,mask=mask,square=True,annot=True,cbar=True)\n",
    "plt.title('Figure :  Heatmap of red wine data', fontsize = 10)"
   ]
  },
  {
   "cell_type": "markdown",
   "metadata": {},
   "source": [
    "## Statistical Modeling and Performance Evaluation"
   ]
  },
  {
   "cell_type": "markdown",
   "metadata": {},
   "source": [
    "### Mean of red wine quality"
   ]
  },
  {
   "cell_type": "code",
   "execution_count": 24,
   "metadata": {},
   "outputs": [
    {
     "name": "stdout",
     "output_type": "stream",
     "text": [
      "Red Wine Mean Rating: 5.6232523914643116\n"
     ]
    },
    {
     "data": {
      "image/png": "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\n",
      "text/plain": [
       "<Figure size 432x288 with 1 Axes>"
      ]
     },
     "metadata": {
      "needs_background": "light"
     },
     "output_type": "display_data"
    }
   ],
   "source": [
    "plt.hist(winedata['quality'])\n",
    "\n",
    "print('Red Wine Mean Rating:', winedata['quality'].mean())\n"
   ]
  },
  {
   "cell_type": "markdown",
   "metadata": {},
   "source": [
    "From the above diagram, we cann see the mean quality of red wine is 5.62. There are no wines having quality larger than 8 or less than 3. Most of red wine's qualities from the dataset are between 5-6. Therefore, we can say that most red wines have the average qualitiy. "
   ]
  },
  {
   "cell_type": "markdown",
   "metadata": {},
   "source": [
    "### Model building"
   ]
  },
  {
   "cell_type": "code",
   "execution_count": 47,
   "metadata": {},
   "outputs": [],
   "source": [
    "X = winedata.iloc[:,:11]\n",
    "y = winedata.iloc[:,11]"
   ]
  },
  {
   "cell_type": "code",
   "execution_count": 50,
   "metadata": {
    "scrolled": false
   },
   "outputs": [
    {
     "data": {
      "text/html": [
       "<table class=\"simpletable\">\n",
       "<caption>OLS Regression Results</caption>\n",
       "<tr>\n",
       "  <th>Dep. Variable:</th>         <td>quality</td>     <th>  R-squared (uncentered):</th>      <td>   0.987</td>\n",
       "</tr>\n",
       "<tr>\n",
       "  <th>Model:</th>                   <td>OLS</td>       <th>  Adj. R-squared (uncentered):</th> <td>   0.987</td>\n",
       "</tr>\n",
       "<tr>\n",
       "  <th>Method:</th>             <td>Least Squares</td>  <th>  F-statistic:       </th>          <td>   9054.</td>\n",
       "</tr>\n",
       "<tr>\n",
       "  <th>Date:</th>             <td>Sun, 01 Nov 2020</td> <th>  Prob (F-statistic):</th>           <td>  0.00</td> \n",
       "</tr>\n",
       "<tr>\n",
       "  <th>Time:</th>                 <td>04:42:47</td>     <th>  Log-Likelihood:    </th>          <td> -1356.9</td>\n",
       "</tr>\n",
       "<tr>\n",
       "  <th>No. Observations:</th>      <td>  1359</td>      <th>  AIC:               </th>          <td>   2736.</td>\n",
       "</tr>\n",
       "<tr>\n",
       "  <th>Df Residuals:</th>          <td>  1348</td>      <th>  BIC:               </th>          <td>   2793.</td>\n",
       "</tr>\n",
       "<tr>\n",
       "  <th>Df Model:</th>              <td>    11</td>      <th>                     </th>              <td> </td>   \n",
       "</tr>\n",
       "<tr>\n",
       "  <th>Covariance Type:</th>      <td>nonrobust</td>    <th>                     </th>              <td> </td>   \n",
       "</tr>\n",
       "</table>\n",
       "<table class=\"simpletable\">\n",
       "<tr>\n",
       "            <td></td>              <th>coef</th>     <th>std err</th>      <th>t</th>      <th>P>|t|</th>  <th>[0.025</th>    <th>0.975]</th>  \n",
       "</tr>\n",
       "<tr>\n",
       "  <th>fixed acidity</th>        <td>-6.367e-05</td> <td>    0.018</td> <td>   -0.003</td> <td> 0.997</td> <td>   -0.036</td> <td>    0.036</td>\n",
       "</tr>\n",
       "<tr>\n",
       "  <th>volatile acidity</th>     <td>   -1.1286</td> <td>    0.130</td> <td>   -8.712</td> <td> 0.000</td> <td>   -1.383</td> <td>   -0.874</td>\n",
       "</tr>\n",
       "<tr>\n",
       "  <th>citric acid</th>          <td>   -0.1632</td> <td>    0.162</td> <td>   -1.009</td> <td> 0.313</td> <td>   -0.480</td> <td>    0.154</td>\n",
       "</tr>\n",
       "<tr>\n",
       "  <th>residual sugar</th>       <td>    0.0016</td> <td>    0.014</td> <td>    0.116</td> <td> 0.908</td> <td>   -0.026</td> <td>    0.029</td>\n",
       "</tr>\n",
       "<tr>\n",
       "  <th>chlorides</th>            <td>   -1.9548</td> <td>    0.446</td> <td>   -4.380</td> <td> 0.000</td> <td>   -2.830</td> <td>   -1.079</td>\n",
       "</tr>\n",
       "<tr>\n",
       "  <th>free sulfur dioxide</th>  <td>    0.0034</td> <td>    0.002</td> <td>    1.444</td> <td> 0.149</td> <td>   -0.001</td> <td>    0.008</td>\n",
       "</tr>\n",
       "<tr>\n",
       "  <th>total sulfur dioxide</th> <td>   -0.0027</td> <td>    0.001</td> <td>   -3.441</td> <td> 0.001</td> <td>   -0.004</td> <td>   -0.001</td>\n",
       "</tr>\n",
       "<tr>\n",
       "  <th>density</th>              <td>    4.5119</td> <td>    0.695</td> <td>    6.491</td> <td> 0.000</td> <td>    3.148</td> <td>    5.876</td>\n",
       "</tr>\n",
       "<tr>\n",
       "  <th>pH</th>                   <td>   -0.5235</td> <td>    0.179</td> <td>   -2.929</td> <td> 0.003</td> <td>   -0.874</td> <td>   -0.173</td>\n",
       "</tr>\n",
       "<tr>\n",
       "  <th>sulphates</th>            <td>    0.8973</td> <td>    0.123</td> <td>    7.286</td> <td> 0.000</td> <td>    0.656</td> <td>    1.139</td>\n",
       "</tr>\n",
       "<tr>\n",
       "  <th>alcohol</th>              <td>    0.3021</td> <td>    0.019</td> <td>   15.967</td> <td> 0.000</td> <td>    0.265</td> <td>    0.339</td>\n",
       "</tr>\n",
       "</table>\n",
       "<table class=\"simpletable\">\n",
       "<tr>\n",
       "  <th>Omnibus:</th>       <td>24.934</td> <th>  Durbin-Watson:     </th> <td>   1.784</td>\n",
       "</tr>\n",
       "<tr>\n",
       "  <th>Prob(Omnibus):</th> <td> 0.000</td> <th>  Jarque-Bera (JB):  </th> <td>  35.336</td>\n",
       "</tr>\n",
       "<tr>\n",
       "  <th>Skew:</th>          <td>-0.197</td> <th>  Prob(JB):          </th> <td>2.12e-08</td>\n",
       "</tr>\n",
       "<tr>\n",
       "  <th>Kurtosis:</th>      <td> 3.685</td> <th>  Cond. No.          </th> <td>2.50e+03</td>\n",
       "</tr>\n",
       "</table><br/><br/>Warnings:<br/>[1] Standard Errors assume that the covariance matrix of the errors is correctly specified.<br/>[2] The condition number is large, 2.5e+03. This might indicate that there are<br/>strong multicollinearity or other numerical problems."
      ],
      "text/plain": [
       "<class 'statsmodels.iolib.summary.Summary'>\n",
       "\"\"\"\n",
       "                                 OLS Regression Results                                \n",
       "=======================================================================================\n",
       "Dep. Variable:                quality   R-squared (uncentered):                   0.987\n",
       "Model:                            OLS   Adj. R-squared (uncentered):              0.987\n",
       "Method:                 Least Squares   F-statistic:                              9054.\n",
       "Date:                Sun, 01 Nov 2020   Prob (F-statistic):                        0.00\n",
       "Time:                        04:42:47   Log-Likelihood:                         -1356.9\n",
       "No. Observations:                1359   AIC:                                      2736.\n",
       "Df Residuals:                    1348   BIC:                                      2793.\n",
       "Df Model:                          11                                                  \n",
       "Covariance Type:            nonrobust                                                  \n",
       "========================================================================================\n",
       "                           coef    std err          t      P>|t|      [0.025      0.975]\n",
       "----------------------------------------------------------------------------------------\n",
       "fixed acidity        -6.367e-05      0.018     -0.003      0.997      -0.036       0.036\n",
       "volatile acidity        -1.1286      0.130     -8.712      0.000      -1.383      -0.874\n",
       "citric acid             -0.1632      0.162     -1.009      0.313      -0.480       0.154\n",
       "residual sugar           0.0016      0.014      0.116      0.908      -0.026       0.029\n",
       "chlorides               -1.9548      0.446     -4.380      0.000      -2.830      -1.079\n",
       "free sulfur dioxide      0.0034      0.002      1.444      0.149      -0.001       0.008\n",
       "total sulfur dioxide    -0.0027      0.001     -3.441      0.001      -0.004      -0.001\n",
       "density                  4.5119      0.695      6.491      0.000       3.148       5.876\n",
       "pH                      -0.5235      0.179     -2.929      0.003      -0.874      -0.173\n",
       "sulphates                0.8973      0.123      7.286      0.000       0.656       1.139\n",
       "alcohol                  0.3021      0.019     15.967      0.000       0.265       0.339\n",
       "==============================================================================\n",
       "Omnibus:                       24.934   Durbin-Watson:                   1.784\n",
       "Prob(Omnibus):                  0.000   Jarque-Bera (JB):               35.336\n",
       "Skew:                          -0.197   Prob(JB):                     2.12e-08\n",
       "Kurtosis:                       3.685   Cond. No.                     2.50e+03\n",
       "==============================================================================\n",
       "\n",
       "Warnings:\n",
       "[1] Standard Errors assume that the covariance matrix of the errors is correctly specified.\n",
       "[2] The condition number is large, 2.5e+03. This might indicate that there are\n",
       "strong multicollinearity or other numerical problems.\n",
       "\"\"\""
      ]
     },
     "execution_count": 50,
     "metadata": {},
     "output_type": "execute_result"
    }
   ],
   "source": [
    "# Multiple Linear Regression\n",
    "model = sm.OLS(y, X).fit()\n",
    "predictions = model.predict(X)\n",
    "model.summary()\n"
   ]
  },
  {
   "cell_type": "markdown",
   "metadata": {},
   "source": [
    "From the above step, we built the full model and define the prdict values for it on multiple linear regression."
   ]
  },
  {
   "cell_type": "markdown",
   "metadata": {},
   "source": [
    "Then we define a new data frame for actual quality vs. predicted quality and the residuals for the full model. We will use this data frame when plotting predicted values and the regression residuals."
   ]
  },
  {
   "cell_type": "code",
   "execution_count": 27,
   "metadata": {},
   "outputs": [
    {
     "data": {
      "text/html": [
       "<div>\n",
       "<style scoped>\n",
       "    .dataframe tbody tr th:only-of-type {\n",
       "        vertical-align: middle;\n",
       "    }\n",
       "\n",
       "    .dataframe tbody tr th {\n",
       "        vertical-align: top;\n",
       "    }\n",
       "\n",
       "    .dataframe thead th {\n",
       "        text-align: right;\n",
       "    }\n",
       "</style>\n",
       "<table border=\"1\" class=\"dataframe\">\n",
       "  <thead>\n",
       "    <tr style=\"text-align: right;\">\n",
       "      <th></th>\n",
       "      <th>actual</th>\n",
       "      <th>predicted</th>\n",
       "      <th>residual</th>\n",
       "    </tr>\n",
       "  </thead>\n",
       "  <tbody>\n",
       "    <tr>\n",
       "      <th>0</th>\n",
       "      <td>5</td>\n",
       "      <td>5.015898</td>\n",
       "      <td>-0.015898</td>\n",
       "    </tr>\n",
       "    <tr>\n",
       "      <th>1</th>\n",
       "      <td>5</td>\n",
       "      <td>5.115008</td>\n",
       "      <td>-0.115008</td>\n",
       "    </tr>\n",
       "    <tr>\n",
       "      <th>2</th>\n",
       "      <td>5</td>\n",
       "      <td>5.198882</td>\n",
       "      <td>-0.198882</td>\n",
       "    </tr>\n",
       "    <tr>\n",
       "      <th>3</th>\n",
       "      <td>6</td>\n",
       "      <td>5.672657</td>\n",
       "      <td>0.327343</td>\n",
       "    </tr>\n",
       "    <tr>\n",
       "      <th>5</th>\n",
       "      <td>5</td>\n",
       "      <td>5.053299</td>\n",
       "      <td>-0.053299</td>\n",
       "    </tr>\n",
       "    <tr>\n",
       "      <th>6</th>\n",
       "      <td>5</td>\n",
       "      <td>5.091355</td>\n",
       "      <td>-0.091355</td>\n",
       "    </tr>\n",
       "    <tr>\n",
       "      <th>7</th>\n",
       "      <td>7</td>\n",
       "      <td>5.290987</td>\n",
       "      <td>1.709013</td>\n",
       "    </tr>\n",
       "    <tr>\n",
       "      <th>8</th>\n",
       "      <td>7</td>\n",
       "      <td>5.304178</td>\n",
       "      <td>1.695822</td>\n",
       "    </tr>\n",
       "    <tr>\n",
       "      <th>9</th>\n",
       "      <td>5</td>\n",
       "      <td>5.665328</td>\n",
       "      <td>-0.665328</td>\n",
       "    </tr>\n",
       "    <tr>\n",
       "      <th>10</th>\n",
       "      <td>5</td>\n",
       "      <td>5.059471</td>\n",
       "      <td>-0.059471</td>\n",
       "    </tr>\n",
       "  </tbody>\n",
       "</table>\n",
       "</div>"
      ],
      "text/plain": [
       "    actual  predicted  residual\n",
       "0        5   5.015898 -0.015898\n",
       "1        5   5.115008 -0.115008\n",
       "2        5   5.198882 -0.198882\n",
       "3        6   5.672657  0.327343\n",
       "5        5   5.053299 -0.053299\n",
       "6        5   5.091355 -0.091355\n",
       "7        7   5.290987  1.709013\n",
       "8        7   5.304178  1.695822\n",
       "9        5   5.665328 -0.665328\n",
       "10       5   5.059471 -0.059471"
      ]
     },
     "execution_count": 27,
     "metadata": {},
     "output_type": "execute_result"
    }
   ],
   "source": [
    "residuals = pd.DataFrame({'actual': winedata['quality'], \n",
    "                            'predicted': model.fittedvalues, \n",
    "                            'residual': model.resid})\n",
    "residuals.head(10)"
   ]
  },
  {
   "cell_type": "code",
   "execution_count": 28,
   "metadata": {},
   "outputs": [
    {
     "data": {
      "image/png": "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\n",
      "text/plain": [
       "<Figure size 432x288 with 1 Axes>"
      ]
     },
     "metadata": {
      "needs_background": "light"
     },
     "output_type": "display_data"
    }
   ],
   "source": [
    "def plot_line(axis, slope, intercept, **kargs):\n",
    "    xmin, xmax = axis.get_xlim()\n",
    "    plt.plot([xmin, xmax], [xmin*slope+intercept, xmax*slope+intercept], **kargs)\n",
    "    \n",
    "# Creating scatter plot\n",
    "plt.scatter(residuals['actual'], residuals['predicted'], alpha=0.3);\n",
    "plot_line(axis=plt.gca(), slope=1, intercept=0, c=\"red\");\n",
    "plt.xlabel('Actual Quality');\n",
    "plt.ylabel('Predicted Quality');\n",
    "plt.title('Scatter plot of actual vs. predicted quality for Model', fontsize=15);\n",
    "plt.show();"
   ]
  },
  {
   "cell_type": "markdown",
   "metadata": {},
   "source": [
    "From the above figure, we observe that the model never produces a prediction above 7.5 even we had red wines that their qualities are 8.\n",
    "### Full Model Diagostics Check\n",
    "\n",
    "We will check the Full Model Diagnostics.\n",
    "\n",
    "We want to check whether there are indications of violations of the regression assumptions, which are :\n",
    "\n",
    "linearity of the relationship between target variable and the independent variables\n",
    "\n",
    "normality of the residual distribution\n",
    "\n",
    "statistical independence of the residuals"
   ]
  },
  {
   "cell_type": "code",
   "execution_count": 29,
   "metadata": {},
   "outputs": [
    {
     "data": {
      "image/png": "iVBORw0KGgoAAAANSUhEUgAAAakAAAEYCAYAAADmugmLAAAABHNCSVQICAgIfAhkiAAAAAlwSFlzAAALEgAACxIB0t1+/AAAADh0RVh0U29mdHdhcmUAbWF0cGxvdGxpYiB2ZXJzaW9uMy4xLjMsIGh0dHA6Ly9tYXRwbG90bGliLm9yZy+AADFEAAAgAElEQVR4nOydeZhdRZn/P+85d+29O529swIJCUsIxITFgYQdRAEFFVdwlFHxNzqijtuMUcd1QMddxAVxRMagIMpuSBABE0JIAwkkIUmn08lNujvdt5fbdz/1+6PO7dzc3F5u7+muz/P0k5xz69Z9zzl16lv11ltVopTCYDAYDIaxiDXaBhgMBoPB0BNGpAwGg8EwZjEiZTAYDIYxixEpg8FgMIxZjEgZDAaDYcxiRMpgMBgMY5Z+iZSI3CgiL4hIh4i0isiLIvKdoTZGRN4uIjfmOX+ziFwz1L/XH0RkvYjcV+B3FojIahGpGEI7rhaRV0UkISJ1Q5VvgTbUichtfaQ5VUSUiKwcht9f6eZ96lDnPZ4Qkduyy4j7/ioRKSkgj88M5TMUkatcG+YOVZ5DgWvTx7KOj3rfReRSEfnEEP7edBF5WETaRuA9cURkVp7Pf+F+vn6Ifu++QvMq5F3uU6RE5HPAz4HHgLcC7wP+BLylEKP6yduBG/OcvxkYFZEaIAuALwFDIlIiYgN3A7XAhcC1Q5HvALgW+P4o/bZh4DwEnAN0FfCdzwArh8Wasc1Hgc9lHV8KDJlIAV8AlgA3oJ/J5iHMO5cI8I7sEyLiQ7/HncP4u0OKpx9pPgbcoZT6fNa5P4vIl4fJpmHFrfBtpVRitG0pgOlAGXCPUurvhXxRRIJKqehQGKGUenEo8jH0jIgI4FdKxYYqT6VUE9A0VPmNZ5RS24b5J04GNiilHh5sRiIS6KOc/Bl4J5Dt/bgMsIH1QOlgbRgJ+uPuqwAO5p5UOUtViEhQRL4tIntFJC4ie0TkG1mfv09E/i4iLa7LcJ2ILMv6/C7gbcAFbjdQuS6z9cBZwPuzzt+Y9b0PishW9zf3ishncuy6S0Q2icg1IrIViAErslwgbxCRp0UkKiI7RKTPXoqIXCgiG0QkJiKHROTHGVeK233/s5t0j/sbdX3k93YRedm9hn0i8jUR8bif3Qjsc5P+KXNfesgn04W+TEQeFJFO4IfuZ5aIfFZEXnd/Z4eIvD/n+29070W7+7dFRK7P+vwYd5+IfNS1OSIif0YLavbnc12brso5f5eIbMo6PllE7nXz6nKf6SdEpNcyKiL/7KaNikiziDwlIqf0kHaea8uVOedtETkoIl91j2tE5Pci0ujmuyvzWX/Juu53ichvRLvKG0XkSznpVrt2v1FEnkeXz+vdz6pE5A63jMVE5FkRWZHz/QoRuce9/yER+UIeW45x90kv76tbXicBX8p651a6n/WnHIl7XY3udd+NbmT1576dLyK17vW+ICLnuvdndVaafOXwqGsUkWIR+aGIbHfL0x4R+ZGI9GqHZLn73N+8FZiTdR/uEpE3iXalzcv57jz3fF4vk4go4CLgWsmpF6SXOiDn+pa7NkaBT/dxO+8FzhKRk7LOvRN4AIjnse8MEVnr3q9WEfmtiEzNSTNLtLsy6j6HD/ZwraeKyEPu8+8QkTUiMq0Pe/OjlOr1D3gaaATeD0zqIY0AjwMdaDfBRWi34J1Zaf4T7ba7CLgC+A3a/TDf/fwE4El09/ds968GWAy8inZZZM5Pdr/zaSAJfA24BPgs+uZ/LOt37wKagR3Ae9x0NWi3ogJ2A59ybfoDkAKWZH1/PXBf1vFiIOHa8ybgw0AYeNT9vAxdsBW6W302sLSX+3upm/bXwOXu/YsDP3U/n+zmo9x8zwZqeshrpZuuAfgq2jV4rvvZj9Bd/M8AFwPfAtLAVVl2h107LnHtuhX4UFb+dcBtWcdXu7/3E3QL7etoQVXASjfNXPf4qhxb7wI2ZR1fBHwZeLN7HZ8A2oDP5bm+U93j893n/zn3s7cA38hccw/3aAPw65xzF+bk+yTwHNrFvBL4APDtvt6VnDwz170fuMO9P18DHOCWrHSr0e/BLuBfgFXAQsCPfhd2o9+ly9Fu9g5gWtb37wdagQ+59+4p9/nXZaW50bWlpD/vK7DULQs/58g7V9afcuSm+bh7nf/lXvcdrk0KmNvLPZuBdlGtA65C1xd73Puzuqdy2MM1TkaXy+uAC9Dv/qvAYznfUxxdX6zHfd/R9cRvgVDWfTgB3RNpyLbJTf9l4BDg6eH6znaf6ZNk1Qv0UQfkXN8udH21ih7qFbLeE3R5/w/3fNB95pcD9wHrs74z2X3mmXL/HvcaXwJ8WeVmM1APvAs9/PMyuoxn53Ui+t1d6+b1NmAb8Dwg+d7lXt+lfrxsp6NfFOUWvK3AV3ALrZvmMvfzt/TzBbbQrsbXgP/MOn/Ujcs6vwm4K+dcGfpl+VLO+a+ge352VmWogDN6KNSfz7HrNeDefIXWPb4X2JnJ3z33djevc9zjq+jjhcz67j+AdTnnPoN+8WtyKryr+sgr8+C/m3P+RPfZvT/n/N3A8+7/l7nfLe0l/zqOFqmNwCM5ae5kACKV85m45ePzwO58L597/Cnghf6Uuaw8/g39Avmzzt0BbM067gTeXEi+eX4nc92P57k/+wHLPV7tprs6J90/oxtDJ2Wd86Arqf92j09xv/uOrDQlQAu9i1Sf7yu6Ybd6AOXIBg4AP8lJ80Rf7wTwbeAwUJR17t3u91ZnnTuqHOa7xjx5e4Dz3DSzs873KFLu8W3Z9zLr/H+hBTRT6Uo+u/J876j83XP9qQMy1/fxfpS9lRwRqX/LlG10PdXk3otckfomWqSy6/Xlbj43uMdXuscrstLMQTfss/P6DbAdV9zccye51/OmfO9yb399uvuUUi8Bi9Ct1B+7D+M/gE1Z7oMLgRal1IM95SMii0TkfhE55BqbRLcYF/RlQw+cAxQDa0TEk/lDt1KmoltBGfYrpbb0kM/9mf8opRx0a3V5L7+7HLhfKZXOOpfpgb2xkAsQPT52JrAm56P/QwvmOYXkl8VDOccXoSuX+3Pu1VrgDNeOXejK+R7RkYS9Bn2431mKvl/Z/HEgBotIQES+LCKvo1uRmR7yvGy3Rw5bgKUi8l3XTeTrx0/9Hu2Lv9z9XQ+6RXhvTr7fcF0sswdyPVncn3P8R3SPIbt8KuCRnHQXAy+gXcaerHvwFLpBAfAG99/u904p1YkWhN7o833tgf6Uo1lol+9AysVy4AmlVHaAx4DKE4CIvFd0JHInujxlxnMHWudk80t0Bb3SPV7lHv+qQBsLrQNy3+2++D1wsoichnb1/UEplcqTbjm6QdWeOaGU2ogW3jdmpTmklNqQlWYvupxmczG63DtZZWSPm9cyCqRfIehKqbhS6s9KqY8ppRYDH0Qr4z+7SSahu8R5EZFStHthFvBJ4J/QL1gtECjUaJdq99+t6AKY+Vvnns8OvTzUSz6NeY6n50voMj03P1ewDgNVvZt8DNWAN499meNC88v9fvbv2OgeRPa9ugvdqpqulGpFux286ILd5PqU5/fwG5Pd7+a7fwPhW+ie0c/QLbY3oFur0EMZUUr9FbgJ7fZbDzSLHh8s7ulHlFL70ZVVJurpIvT9yRapd6B7798F9ooem7toYJfV4/3JLmOt6thAnmq0SyiZ83cTR8r2NKBDHRsY09cz6PV97YU+y5FrUz4b+lMupuWmc6+t4Eg00WPLd6PdV9ej72VmvHmgdU62XbvRZe4m99RNwEal1NYCsyq0DuitLjuGrPJ+M3pI494ekh5Tr2X9XsaGY56PS+65auDfObbszufoerlf9Ce67xiUUr8QkW+jI1VAV9C9VeznoFuOlyilXsucFJHygfy+S4v771Xkv7nbs/6veslnCtr+7OPeXuCQm6YbtzU0Kcum/tKMfnhTcs5nBisLzS9D7vW2oHt656Fbwrk0AiilngMuF5EgujX0HeAe9AueS5ObZ67tuceZ6KPcXk7uy3c98AOl1LczJ0TkTXl+9yiUUr8Gfi0ik9E9ou8C7ejxyZ74P+Cb7nW+A3hRKbUzK8/9wI2igzaWo11yD4rIbKXU4XwZ9kJP9ye7jOUrny1oofxIns8yg94HgVI5NoIz9zdz6et97Yn+lKNMndJXucjHwdx07jPKnd8Vo3/laYNS6qNZeV3QDxsK4efAnaKn6bwVPYZbKIXWAb3VZT1xLzqA6hDwtx7SHFOvZdmR6Skd83xcpgDZ5a8F3ZP6eZ60zf2w9yj6M0/qGKPcCqGcI+KwFqiSnAiuLILuv90RJSJyLtpvn02C/K2cfOefQ9+YGUqpTXn+Onq5rGy6o/ncSulq9FhLT2xAR+fYWefein45M+6ETKu41xab2wN7ATeaK4u3oyuB5/oyvp88iW4Bl/dwr45qxSulokqpP6NdGot7sX0L+n5l89ac40b0S7goc8J1E+e6MYIcXT5stHuiXyilmpRSd6ADffLanMUa9/eudf/yti6VUo5S6h/oAfEitDunUHKjRd+KrhAa+vjeWvQYUH2e5/Wym+Z599/uaDL33l7Sj7x7e18h/zvXn3K0D12Z9VUu8vE8cImIFPXxvQayypNL7jUfVZ5c3t0PG3LpqU4C7YpMoMuPRc+9lB4ZoTrgPnTE8dfdIY18bAAuc71eAIjIG9B1dKZeex6YKlkRpq47/MycvNaix8NeyFNG6go1vj89qZdF5E9od10j+kX9FDri5tdumifQk33vEZGvoCNApgPnK6X+BT0w2IludXwb3atajR5AzuY14GrRq0s0AAeUUgfc85eJyGXoVuAepdRhN0T0eyIyB91CsND+5lVKqf5OeP2giCSAV9ARUieiJ9r1xH8BLwIPiMhP3Gv5FjpqKFOgMr24fxGRe4GurIolly8Bj4nIr9CF/DR0ZN6dSqm+KrJ+oZTaLiI/Be517/8m9It3CrBAKfVBt9fyAXR4aj0wEx1t9mQvWX8d+KN7H+5HR1FdnvPbjlt+/k1E9qIHZ2/l6JYX6DJ0izsm1QLcgo5w6xHRc/WqcF196DGyC+i9F4VSqlH01Ibb0FMsfp+VZzm6LN+Njgj1u/YeREeHISLvQwv4Ca5PvjdOEZE70OOW56Nd5B/vpbLIcDc6cnS96HDr3eje+nLgoFLqu0qprSLyIPAT0aHVIXTEa1+Tdvt6X0G/c28SkUfR7+72/pQjpVTa/ew2EWlGNxrexrGiko//QT/3v4he0WYGOnIzt6zcD/xARD6Prjjf6tqQe40/Eh2SvwHtQh6Iy/Y1dMV8I7qOaM5UtEqpmIj81rX5d0qp8ADyh2GuA5SeJ9fXYgjfQffaHxORb6F7r99ER+/9wU3zMHqIZo2I/Du6R/sVjnX3rUY39B8SkV+i382Z6IbEXUqp9YVeQF+RIregBeqAa1Qd2gV0ck66IPqlb0C3YPYAX8v6/HL0Q46iwxqv5NhImmp0AWwhK6IH7cv8K9oXroAbs77zHnRLJIoOxd0AfDLr87vIE0XGkWiZ5cAz7rW9DrwtJ91RNrrnLnJ/J4Z+QD8mJ6oIXbHtRbtHjokOykn7DnRhSLj372tkhbFSeHTfMREz6ICXT6DH8OJod91TwPvczxeiW1z73M8bgJ8CVVl51HFsVNXH3LRd6EKcCaddmZVmKnogvd29JzfnPhc3zf1umkPoSK8PcXRU2lHXh3b1rnWvJYZuHHwWN+Kqj3v1QTev53LO+9EReNvda2oG/gKclqfszO0l/8wzezfwO3TobxO6VyZZ6VajK758eZQD33OfSaZs/BE4LytNJbpii7j37T/JiUgjT+Qbfb+vZ6Ebl5Hs59lXOcpK81X3sw50GPe7+rpnWc/4JTfvLWjX4lGRhugxnO+gGw6t7j26Oaes2O71Nbpl6g/ACnLeI/qO7guggyEa3bR35dh7sXv+4r7KXE/1ST/rgGOe4UDqgaw0x0RSoxt5T6LLfRhdz0/NSTMbeBRd3+5FN2Tz5XWye77FTfs6Ooq2pr82Zv4y4ZMTDrdl9Ct0yPVxs0SI4fhA9Bp1e9Ch7H8ZXWuOb9we2Q+VUqtH25Zc3F7jO4B5qu/esWEADChwwmAwGCYyIrIQPfb5EeDLRqCGDyNSBoPBUDh3oN2HD2IWXR5WJqy7z2AwGAxjH7PpocFgMBjGLMelu6+6ulrNnTt3tM0wGAyG44oXXnihWSk1ebTtKITjUqTmzp3Lpk2b+k5oMBgMhm7cuYrHFcbdZzAYDIYxixEpg8FgMIxZjEgZDAaDYcxiRMpgMBgMYxYjUgaDwWAYsxiRMhgMBsOYZdRD0EVkFnpbgmno/VN+ppT63uhaZTCMHqFwlNqGMC2RBFXFPpbUVDC9Itj3Fw2GccioixR6K4tblVKb3Q23XhCRJ5RS20bbMINhpAmFozyx7RClAQ/VJX4aWrtYv72JOVVFzJtcbATLMOEYdZFSSoVwt9JWSnWIyKvoDbKMSI0RTMt+5KhtCFMa8FAa8NISifN6YwTbgvZYgmgiwBPbDnHJ4qnm/hsmDGNqTMrdg2cpekPB3M9uFpFNIrKpqalppE2bsGRa9tFEmuoSP9FEmie2HSIUzt0s1TAUtEQSFPt127GuuYug16Yi6KMznqY04KU04KG2YaAbwBoMxx9jRqREpAS9e+YnlFLtuZ8rpX6mlFqmlFo2efJxtfTUcU12y94SMRXlMFNV7CMSTwHQEU8S8FrEUmlKA1q4iv0eWiKJ0TTRYBhRRt3dByAiXrRA/VYp9cfRtsdwhJZIguoS/1Hniv0emjvjo2TR+GZJTQVPbDsEQLHPQziaQClh4dQyACLxFFXFvu70xhVrGO+Mek9KRAT4BfCqUuo7o22P4WiyW/YZcitKw9AxvSLIJYunEvTZlAU9pB3FSVNKqCjy0hFL0hFLsaSmAjCuWMPEYCz0pM4D3gu8LCJb3HOfV0o9PIo2GVyOatn7PUTiKTpiKc6eP2mULRu/TK8IdveGMj2l5s44VcU+zp4/qfuzbFcs0P1vbUPY9KYM44ZRFyml1N8BGW07DPnJtOx7qigNw0u2YOViXLGGicCoi5Rh7NNbRWkYPTKu2EwPCvK7Ys24leF4xoiUwXCc0h9XrJkcbDjeMSJlMByn9McV29Pk4P3hCI0dMR56KcS5J0xi5cIpRqwMYxIjUoZRx7ijBk5frtjscavM5OBkOs2rBzs4fWYlQZ/F49sO8dzuw5wzv4qVC81qFoaxxaiHoBsmNtlh1JbAht2H+frDr/K7DXtNKPUQkG9y8P5wlPKAl7TjcLAtTiKVprrYz45DnSaE3TDmMCJlGFUy7qhk2uGlhnYssQh6hce3HjRiNQQsqamgI5aiI5bsnhzcHksxs6KIxvY4IlAe9BL02aQcZVYTMYw5jEgZRpXMWnUZV1TKcQi1xYmnHSaX+thxqMO07gdBvsnB8yYVY1tCWyyJUjClNEgs6VDq95pllwxjDjMmZRhVMu6ojniSsoCX3c1d7hqBHoJeD+2xZHfr3oyVDIzcycHrtx/iud0t+DwWU0r92JYQTaZZOK2kx9VEzLihYbQwImUYVTJh1B5LiCbStEWT2CK6de8urJqZoJqpYF850I5ScNrMchOVViDTK4LcsGIuKxdOZf32Rp7ddZgin83pNWV4bSvvaiK5YeyReMpsGWIYMUQpNdo2FMyyZcvUpk2bRtsMwxCR3brviCaZXBagNOAhmnA4Y1YFXluIJVM0dySoa+miPOAFUYS7UsybXMx1Z9aYynKA9KeH9OgrIaKJ9FGThjtiSYI+m8tPnT7SJhsGgYi8oJRaNtp2FILpSRlGnaNb91qsin02p9eU47WFjlgKry20dCWoCPoI+mwARIR9hyPc9ewe5kwqNm6oAdCf1UT6Wn7JuAINw4kJnDCMGTJi9bkrFrFi/iQcpQj6bC5ZPBUFJNOKgPdIkU2mFbubI7REkmYV8GGkt5XwzUrshuHG9KQMY458rfuqYp/r9nO6e1L7W3VE4OQSf/eGjGBWAR9qelt+KXcl9mRasae5kx+ua+efTppselWGQWN6UobjgiU1FVQV+QhHE3TFU3QlkrREElQW+5hbXdSdzoRQDz3ZYezNnfHu3u30iuBR2923RBJs2RdGBLoSKTMx2zAkmJ6U4bhgekWQ65bNOiq675QZZcyfXEJV8ZHxEhNCPTz0NHaVvRJ73eFOgj6LSCxFc0eSqqJA91y3ZFqZaEDDgDAiZThuyIxZZciMh3TEkr1uyGhCqIePbFdgezSJz7bZH44yozxI0GejlGXmuhkGhREpw3FLfzdkzLeDbd3hTj6zZgvxtIPfa3Pe/ElcvdSEshdK9jNwFCgUk0t9VJfq3m2+uW61DWH2NEUIRxOUB73Mn1xieraGHjEiZTiuGUgI9e6mDtZua6Q9nmTB5FLa40l+t3Efz+w6zJWnTTcThAsk8wwyvao9zZ1EE2nEgmjCYeHUMiLxFILiiW2HSDuK+pYuLAvaoykCXpvG9rjp2RryYgInxgihcJRHXwlxz4a9PPpKyAw0DyG5IdQv7A2TcBwqgz4cIBJ3CPgsGjtiPL7tEN945FV+t6HOPIMCyfSqFkwtoTkSx3HUUXPdQC931dQZo8hvU1nkp8jnobkjYRa2NfSIEakxgJlrMrxkrwTuKEVTZxzHgUnFfsLRJB5b8HosDncmSKQcs23FIOhrrlux30NHLEXAo6cRBLwWHfGkico09Ihx940B8o2ZZM4b98fgyR27qi724bUE27ZIpBz8HouWjhQBr0V5QG9b0R5LknIcs5rFAOlprpuOBPQQS6UJej3dq6/3FJVpMBiRGgP0teyMYfBkV5qnTC/je3/dSbgrjgV0xpNEEilmVxUxpcxPLOmAgp2HOkk5DvOqS9iw+zAPvxwyu9cOgsyY1eSSADsOdRBLpnEcmFlZkjcqMxszhWDiYkRqDJA91ySDme8zfCyZXcnHLz6J32+q55X9baQcmFsV5MSpJdiWRTSZxmOBZUHQtnmpoY2gz6K62M+L9W3UNrQxu6rIRKUVSHaPNpZMd0f3zXCDLnq6j6FwlPs27aOlK0EyrfDaws6DHVy3bJa59xMAswr6GCB7Hk/2fJ/caKf+pjMUhl6FXW9bUV3iY+G0Ul7YG8ZjCV53vCro9dARTbLtYDsLppYg6M8ORxKmdzXM/G5DHZv2hqkI+gh4LWJJh3A0wbI5FUfNmzP0jVkF3TAgBjPfJ3PeVJADRw/2z2HlwilZvVQv08qC7G7u7B7k3x/uoizgwSMW2w62M7+6iIbDEb6/p4WfPLWbM2dVcNN581gyu3KUr2h88cqB9u6xQoCgz6YjDo+8chCFGI/COMeI1BhhKLZMMAyO3B1suzdjTKYQLNpiSRZNK2N/uAufBdsPdnCgLYpyQOGwdvshNu5p4eozpvO+c+ebSnOIUAqQIx6fzliS+sNdiIhZQWQCYETqOKKQsSvD4Mj0btdvlyNuwKklpJWiLZakyOehtTWKICSVQzoNtlh0JVL86pk67tm4jymlAS5dNIX3nDvPVJ6D4LSZ5Txf14qIEPDY7GvtIuUoFk8vO2b1+8y/Zsx2/GDGpI4jCh2TMtutDw3ZS/nsbekinU6zvy3GrsYIyXQaBCyxSCRSdCYcxIJSn03KUSRSDqVBD+efNJkbzzWuwIEQCke5b3MDLZ1xkmmHXU0RJpf6eeOJ1d2LCztK8XpjByV+rxmz7QUzJmUYVvo7dgVHIqK2HewgkUwTTabY3dxJXXOEG88zLftCyHUDrt/eyJ7NDXgsUI5FCgUK4o5u8HlFiKcc0g7YtkU0kebpnc1s2NPCqTPLWLVwqmksFMD0iiDXnVnT3UMq9nuYWhY4ZvX7tmiS6eVBM2Y7zjAidZzRn7Er0C/mvtYo4a4EJX4PFUV+DkfiPLm9kVcPtutgAIF51cVceep008LvJ5kgi8XTy/jBup28WB/GcRx8PptUl8ISEIGUo/BYFh6BroTCstKkHMWW+jB7mrt4+OUQV542zUQF9pN844W5q99XBH3de1tlMGO2xz/G3TdOyawB6LMt/F4PsUSKUHuMtq44XQmHiiIPHbE0AD6PxdVLZvA+M3ZSEKFwlN88u4eHXgnREU8RS6QROLLVvc9DIpUmlVIEfJbueWFREfTo7Sv8XmZPKuYD587holOmj/blHFfkmy9Y2xAmmkgfNWbbEUsS9Nlcfqq5v2DcfYYxRFWxj2TawWfrsN1wNIkgRJMOiVSarqRFylGAIhFL8/sXGmgIR/ngG+ebXlU/mV4R5DNXLua9585j/fZGHnppP7UNbVqlLEUylSadVlgWeC3R7j9L0R5Lo5TubTV1xviPB7fx55cOsGBamZkg3E968ij0tM294fjF9KTGKaFwlK8/vI2DbTHKgz72tUZQwP6WqJ6gats4OMSSDkGvTSzpMLVM+/hPqylnxbxJZtxkAKzdGuKOp3fzaqiDRCpNkdci6Sgsy0I54LEFEQEBx1FMrwhyoLULAEHwefS8n2vOmGn2txoAZkWW3jkee1JjQqRE5JfAVUCjUurUvtIbkeoftfWt/Pzve2jujNPWlaQkYLOrKYJlCY6jSKYcRARLIJpIUR70URr0MqXEhyNCqd/DhSdPNuMmAyAUjvLAiw2s297IjoMdeGyL8iIvjW1xPDYoZVHst0g7Dq1dSRwHgj7LjQhU+GxhdnURVy+ZyTVGrAxDhBGpgRohcj7QCdxtRGpoybQsdzd1Ut/SRVN7lJf2t5NM6fBov9cinnLwWFAe9FEW9JJIO1QV+wh3JUikHWyxmFddxIUnm6i0gaAbC7vZ3xpld1MnXtsGFNVlAfY2R3CUQqHwiJBIK0QEpRQBr4XXtqmpCnLFKdOMWBkGjRGpQSAic4G/GJEaPjLh0/dtqmdfa5TOeAqfHs3Hti0qgx68to0SSDuKls44HtuiyGfRHk2jUAS8HpbPreCm88zYVSFkGgt/39HIM7tbcRyHsoDN7uYu0mnHFSZwAFCkHPBZgscWlOMQT4MlUF3i4+ozZpgVLQwDwojUIOhLpETkZuBmgNmzZ5+1d+/ekTNunJGZ5Lv+tSZeb+pEAR4LKov8tHQl8Hss2qIpuhIpgoXBZ6AAACAASURBVB6bRDpNezRF0GdhCXQlFbYFi6eV8i/nn2Ai0wqktr6VNS/so7ahjebOOLF4inhakXK0WKXTCkQHW8RTCgeQrO/7bDh9RjlffPMppqFgKAgjUoPA9KRGh0zv6q+vHiIST2FZQmN7jI5oCiXgty1au5K6khSIJnVkWjqr2JT64D1nzzMh7AWix632cd8LBzjY3kUypcUpnQbbckPZHbrD2i30HCzQ50oDHk6cUsKFJ08xrkBDvzAiNQiMSI0umd7Vht0tvHygHQs9MbU9lqa1K0GRz0NHLEnaybikjkaA8qDN6TUVvP9sM++nEGrrW7nrmT08u7uZzlgKlI4CjCQc3E4VoAVKTxTWghX0andgMg0VRV6uWTKD95qGgqEXjEgNAiNSY4fa+lZ+8cwedjV20hJJEImnEAs6omn0zKr82IDfayEivPGESXx01YnGHVUAmV7tuu2H2B7qoDmSIJFySLm9KUvAccetMr0qn8cCxyGaPpKPV+Ddy2ey+tozRulKDGMVI1IDNULkd8BKoBo4BHxJKfWLntIbkRp+sivMrfs76IwnSaQcoqkj5SXjhsom4NHuqrQCrw2VRV7Onl9t9lkqkFA4yt3P7ub3mxpo7Up1jxum9M722KJdggLE0/nzqCn3ccuFJ5kpBIZujEiNEEakRpZQOMqfXmzgwdr9bDsY6T6fK1KCrkjzuQTL/BbvWTHHuKMKpLa+ldsff5WNda0k04ACn0dIOwrL0v8m8/lfs/BbcMMbTM/KYERqxDAiNXqsvn8L/7txP6k8xcbOGjPpiSnFXt52Vo0JsiiQ7ojM7c28vD9MeyyJhSISV/TQkTqG+VU+PnTBAjPXbQJjRGqEGKhImSVThoY1G+v44fpdhNpiJNwa0m+BZQnxtMLpR5EKeoTlcyv55KUnGzdggdTWt/KjdTv4x55WOmPpvIEsPTGt1M+sqiAfPn++CW6ZgBiRGiEGIlKFbhho6B+hcJQfrt3Bs7ubaWiN4Tj0u2WfwQNctGgSq69eYp5FAdTWt3LbY9t4Zle430I1o9xHMuWQUsLsqiDzJhWzYn6VGbeaIBiRGiEGIlKPvhIyy/gPE5ke6jM7m/jbjib2tsYGlE+ZT/iPqxZz/fK5Q2vgOGft1hCf++NLNEZSvaYToNSvV8VPOQ6WCJYlWAg1lUH+7eKTTO9qnGNEaoQYiEjds2Ev1SV+LDkyd99RiubOOO9aMce4AoeIUDjKVx58iUe3NfcYqt4fLOCCEyv41QfPGyrTxj219a38eN1O/vpqU97ebMAGr8fCcRRpR5FSUBbw4ChFLJnGUVBZ7GPB5BJuPHeuEaxxiBGpEWKoe1JLaiqMK3CIWbOxjh88uZOGcKKgMZNcpgbhgY9faJ5DAdTWt/LvazazoynWfe+LPOD1eHBUmmRaN9BssSj227RHk3ouloClIOl+x2/DinmV3HrpIjNuOE4wIjVCDPWYlNnRc/jIrKbw99ebaOrDHdUbxV6LK06Zyq2XLzKC1U8yc90eeeUA2w50oFD4bYuOWIpo0qE04MFR0BFLIeQfS/RYMK3Mx5fffKrpWY0DjEiNEEMd3deXK9AwNKzZWMd3ntjJoY7B9a4WTwnyjeuWmtZ9AWQWtX2+roXWrgSRaAqv19ITtJMK4cjctsz8N0FPK3AUFPttFk0rY9XJ1VyzdJZpKBynGJEaIYZ6npQJqhg5MvN9fvn0LnY2DyzAAqDMBx9ZdZKpMAvkyKK2+znYHsMSiCUcHI5eNBiOnqxtu//PLMl02owSvnLN6aahcJxhRGqEGGqRMuHpo0MoHOX2R1/l4a2H6Opr2YRe8AGfvvwkPrRywdAZN87JrCKydnsju5si3eNSuSuI9FY7lPuFNy+ZyRsXTDGBRscJRqRGiOFYccJE940etfWt/OqZ3TxQe3DQeb1veQ0fuXCBeXYFEApH+em6nfxh8z463aiJfAKVvadV5rNin0WJ34NtwfK5VWYzzDGOEakRYqwui2SEbnCEwlFue3QbD7/SSLS3tZX6IGDDrZeYnlWhhMJRfvTkdh56+RDtsRRKgc+CuHNkPys4el1GSyBoQyylAy8sYN6kAJ+/crEJtBiDGJEaIcaiSBmX4dChx00a+NHaHXQOPCAQgKklXj516QIzQbhAMmNXD2wJ8fqhTtIc6Ull1xge0WNZ+WoRr8A5J5gQ9rGEEakRYiyKlAm+GB7uXL+D7/51J12DFCu/BTf/01xuveKUoTFsglBb38rqP73Mi/s7gGPdgLYcG3CRi0/gnW8wbtixgBGpEWIsipQJYx9eMr2rH6/bSUdi4GXWAt69vIaPmgqzIO5cv4M7nq6jtSuJUnr+lM9j0ZV0+rWgMOi9xpbPreJWs6jwqGFEaoQYiyJlelIjQ219K5/+/WZ2DCJ8PcMJ1QE+f4UZOymEzBSCh14+yN7mCAfCsX4vKGyhxW1mZZAvXrnI3PdRwIjUCDEWRcqMSY08tz+ylZ8+Vde9jM9AEGDF3Ao+d+Vi07ovgMxqFr9/vp6XGtr7JVQeC0Tp5ZeKAx5Om1nO4ullnDG70gQZjRBGpEaIsShSYKL7Rou1W0N8/eFt7Do8uN6VDbx3hdnBtlD6e/8twLLAccBnCz6vRdpRVBZ5WDS9go+tOtE0FIYZI1IjxFgVqYGScaG8cqAdpeC0meVm99QBEApHueU3G9i8P9J34l7wW3D9spnccuFC8wwKIBNksWV/xzHRfpnwddvSyyyJgNe2CHotHAUeS6gu8fH+c+eava2GESNSI8R4EqlQOMp9m/ZR19JFecBLJJFib0uEEr+Xi06ebF7YAbBmYx0/fWrXkPSsTp1Zxr9eeKIZPymA2vpW7np2D0/vaORwVxqFFv7sUHWvLfg9Nl4LIgmHymIPqbTihMnFJB2oqQyyYt4k01gbYoxIjRDjSaQefSXEht2HsUS7PnY3dyICtghBj9DYGSeRVpQHvZwzv8qsVVcgq+/fwl0b9g9JXjcaV2DBrN0a4vtrd/J6c4RESq+8Hk854OhxqWgijYhQErBpiyaYUhpkVlWQzmiSzmQaS4Rlcyq5/qxZxhU4BBiRGiHGk0jds2Ev2w60Ux70sqe5k2Ra4bUtDoQjNHUm8dkWfhssy6I9lmLhtBL+9cIF5oUtkNsf2cqdz9QRG+R8K4BVZjPGgslMDn7olUM0tceIxFN4bItYyqHcr4VLoZg7qZgin8XrTRFK/DZpB3wem7KAl1tWzjc92kFiRGqEGE8ild2T2tXcQZHXQzKt2HGwjbSC0qCHcFeSqaUBkikHB8WSWZV8/KKTTI9qAGTmW9397G5CHYNTrHKf8EWz3X1BZPYXe/r1JpJphS0Q8HnoSqQp8dssmFLKrqZOEikHj23hABVFHsqDPkSE265bYsr9IDAiNUKMJ5HKHpMKRxIkHYdkWrGvJUKRzyaR0s+nujSA4zh0xFLMqgwSSaQ4HEmCKE6bUc6N584zvasCWbOxjq/+ZSvticHlY9yAhZPZ3+rl/W10xlJUBL34fRZey2ZbqJ2g1wIES2BSiZ+ppX4OdsS4dNFUGsJRdjR24Ldtzj1hEtcsrTHC1U+MSI0Q40mk4Eh034bdrTSEu5hfXczB9hgH22O0dSWZUhbA77GJJdJ0xZPEUg7RVJrygIfWrgRdCYeg1+baM2bw4VWmh1UooXCUr/zpJR5/rbnPJX56wgbOPaGST11m1qkrlEz5X/taI52xFC1dCdq6ktiWUOL3MqsySEopYvEUbbEkJQEv5QEvScehLZpi+bwqPnDePFPu+4ERqRFivIlUNpm5VlvqW/n7rsN0RJMU+2wEoSvpkE6niSfTKBFiyRRpB5Jph4S7NHWx12LR9BLedtZsExlVILX1rXz2vs282ji4qMCABV+95hTjBiyQjFite62RzfVhyoNeZk0qQimIxNI4Kk004VBTVYzPo4PaO2NJkuk086qLQcRM4egDI1IjxHgWqWwy/vsX9oUJeC1OmVbGzsYIB9ujAMRTDql0mljqSGhvZj5KkVeomVTMNUtmcLVxhxTEnet38L21r9OZHPy7MbPMy1euPs0M+BfI2q0hfvncXqKJFNUlfk6ZUcba1xoJeiwmlQQQd43MSDzJjkMdTC0LsnRWBYgi3JVi3uRirjvTlPtcjEiNEBNFpDJkr2Sx/rVGdjd30tSewEHRlUh3u6gyK1Rb6NWpUSAWFAc9LJ9dxUfNjP6CuXP9Dr7x6E4GvruVZsn0In76/rNNpVkAuSu4PL2jkfqWKAGvp7sntaepg7ZokkXTyjl5RhkA0WQKx1GsmD/JrJuZgxGpEWKiiVQ2tfWtfPux7by0v5VUWhHNau1L1r8O7oKeNhR5bUSEKWV+Vi2cYtZKGwC19a38y13/4GDX4ORq6cxSVl99mmksDIDa+la+v3YnbbFk95jU7qYIJQGbFXMnURr0AaCUoi2aYPGMcrMDQQ7jXqRE5Dxgi1IqIiLvAc4EvqeU2jtcBuZjIosU6Jf19sdfY2NdC7HU0dt6i9C9dYIns/SMzyKaSJFKQRK3p2XBWbPNwqqFsnZriP/6yzb2tA5u3GrxtGLee848M3ZSIJmowEx0X3WJD69tURrwEfTZQM89KbO25sQQqZeAJcDpwG+AXwBvVUpdMDzm5Weii1SG2vpWbntsGxvr20ilFEppwcqsSO21IOC1SKUVsZTKu3tqqc/iP69aZAb5C2Tt1hDffORVdjZHB5VPecBi1cKp3HSemUIwEHKXFetpTMrsUqCZCCK1WSl1poj8J7BfKfWLzLnhM/FYjEgdzdqtIX72t91sO9hBIpkm5YAlurcU8OkXMtkPL1VlwOKjK0/gQysXDL/R44RQOMon7nmeDfUdg8rHAhZOLeZTly40QRYF0p8FmnP3e2uJxNlU10KoPcbsqiJOnVE2IdbJnAgi9RTwKHATcD7QhHb/nTY85uXHiFR+Mi/rwy8fYEt9mLQSvWJFZ4J4AUMpFnD1kql85opTxv1LO5TU1rfy//73eerbB7PDFZT74ItXmRD2oSR75+yWSJxnX2/mUEccQVFTVUT94S6K/R4uXjR1XLtgJ4JITQPeBTyvlHpaRGYDK5VSdw+XgfkwItU3tfWt/OqZ3bxyoJ3G9jgd8XRed19fzCjx8NVrTzet+wIYKrGq8FvcsGIO7zvXTFQdLNk9qc17W9lxsIOkcvQYrgOCYFuKOZOKmVddMm7dgONepIbNCJHLge+hJ+7/XCn1zd7SG5EqjNr6Vj77h1pePTS4fZbmlntY/7nLhsiq8c/arSG+/OdXqA8Pct0lYJFxBQ6K7DGpF/a2srupE49tYVuCx7Lw2kIknmL2pCLOnF1J0GePy/D1cStSItIBeRviAiilVNmADRCxgR3AJUAD8Dxwg1JqW0/fMSJVOJkN6V7cP7ixE4Bz5pTyu4+cPwRWTQxC4Sg/XbeTP2zeR+fgOldMDtp887olRqwGQCa67+mdTRwIx5haFuBge7R7UWdHOSycVsoZsypp7oyPy/D1cStSw2qAyDnAaqXUZe7x5wCUUt/o6TtGpAaOdgPu4e87G2nuSvf9hV4IeuCTF59kAi0KYM3GOv5n7U72tw2ud3VCpY/v3LDMRAQOgFA4yn2bG9jTFCHcFSeVhqTjMKXUz3knTsZri+lJjSEGJFIiMgUIZI6VUvUDNkDkOuBypdQH3eP3AiuUUh/LSXczcDPA7Nmzz9q7d0SnZo1L1mys42sPbSMcH1xDpcIvfOFNZsuKQli7NcQdT+9mc12YwWwYUuITrjljJrdcuGBcjqEMFzrIqJENew6zvzXK3ElFnDV3En6PNa5D08e9SInIW4DbgRlAIzAHeFUpdcqADRC5HrgsR6SWK6X+X0/fMT2poaW2vpXVD77Miw2DdwV+4XLTsyqUO9fv4Dt/3Ul0kBsyrjqxkq9ft3RcVq7DyUSa5DsRRKoWuBD4q1JqqYisQo8f3TxgA4y7b8wQCkf5yK//wZZQ16DzOnlygG9df6ZxR/WTUDjK/z67h7uf20PHIMetLltUzeqrTx+3Fa1h4EwEkdqklFrmitVSpZQjIhuVUssHbICIBx04cRGwHx048S6l1NaevmNEanhZuzXEp9e8SEtsCFYBL7W475aVpsIsgDUb67j9iR0cHKRaLZ9TxhfedKppKBi6mQgi9VfgGuAbQDXa5fcGpdS5gzJC5Ergf9Ah6L9USn2tt/RGpEaG2vpWvvTAS2w50DnovII2fOVqM0G1EGrrW7n13hd4vSU+4DwEmF8d4LqzZnHN0lmmsTDBmQgiVQzE0GX/3UA58Ful1OHhMS8/RqRGnjvX7+C/H9tJYpCdKw/wkQvmcusVAx7GnHDU1rfy9Ye2smlvG4OLx4TrzpjOrZcvMmI1QRn3IjVWMCI1etTWt/KjdTt5/NWmQed1YpWP39z8RlNhFsDarSG+/sg2djUPfBX2gA3XnVVjIgInIONepHIm9foALxAZzGTegWBEavQJhaO848d/o759kCFpQEXA5paV801UYAGEwlE+8ItnebVp4GJV7LV444nVZjPMCcS4F6ljvixyDTpc/PNDZ1LfGJEaW9z+yFZ+8FTdkORlQtgLY83GOr76l620D3BusAUU+y3OmV/FLasWGLEa50w4kQIQkX8opc4eInv6hRGpscmn7t3EfVsODUle150xldveeVy9S6PK2q0hbntiOzsPRgY1ObgyaPOm02dw/VmzjGCNQ8a9SInIW7MOLWAZcIFS6pyhNqw3jEiNbe5cv4NvPbpzUJVlhmklNne8b4WpMAugtr6Vz655kVebBr4ho8+CFfMq+NRlZufm8cREEKlfZR2mgDrgTqVU4xDb1StGpI4PQuEo//3INv5Ye3DQea06sYJfffC8IbBq4nDn+h18f90uOgrZTCwPp0wN8PObzjVBFuOAcS9SYwUjUscXoXCU9/3s7+xsGfyWFX4bblg2k9XXnjEElk0Mautbuf2x19hQ10LcjWEX8m9r0Bszy3185S2nmhXYj2PGrUiJyA/opUwrpf51KI3qi9EUqYm0ztdwsHZriM+seZHDQ7CahRm3KoxQOMoDLzbw4Jb97G3poitZ+DPwWHDxyZO55sxZpuwfh4xnkXq/+9/zgMXA/7nH1wMvKKX+bXjMy89oiVT2xmnFfg+ReGpcr5g8nAxlROAJkwJ8/srFpoVfAKFwlE/+bhPP7W0v+LsWMLXMR01lER8+f76578cR41akuhOLrAMuVUol3WMv8LhSatUw2ZeX0RKp7C2oM3TEkuN275mRIBSO8uFf/4PaIVjUttwvfNFsGVIQtz+ylV89t5fOApYSsYDSgIVCEAWrTp7CTefNMwEWxwETQaS2A+copVrc40rgH0qphcNkX15GS6Tu2bCX6hI/lkj3OUepcbuL50gSCkf5xD3Ps6F+8NuFVAUs/vv6M0wLvwD0Zpi7eeSlg/S1vZgNiAWlfg9px8EWIakUJT4PC6aW8P5z5pp7P0aZCCJ1E7AaWOeeugC9zcavh960njE9qfHNnet38LVHdw46n4qAxReuXGR6VgXS13w3C/B5hCKfTWcsRUpB0Cuk0wqFgChWzK3k1ksXmd7VGGPcixSAiEwDVriHG5RSg48vLhAzJjUxWLOxjh8++Tp7wwNfBRzAb8HN/2QWtS2U2x/Zys+eriM7gj1gQ0pBsc8i7QhdiTQeAcuGRAqCXouUoxClqCrxc2pNOasWTmHlwinmHRkDjFuREpGTlVKviciZ+T5XSm0ecst6wUT3TTzWbg3xz78ZXDHzAueeUMUnLzvZtPALoLa+lTUv7ONvO5oIdyVJOQ5+2yaRThNNKoI+IeFGCgZ8NrFEGiVQGrCJxtI4gNdjsWx2BZ+81Nz70WQ8i9TPlFI3u4ETuSil1IVDb1rPmHlSE5e3fn8dmw8MPshiTrmX77/7DabCLIBMCPujr4Sob43h8wixeIp4WpFIabFylJBMOQi6xyVAwCskUgqloKrYy/Vn1fDec+eZxt0oMG5FaqxhRMqwdmuIbzzyKq83D3zpH4BiD3ziYrOobaHU1rfy+031/H1nMwfb9ErsHltIpiGtFBZapCwBjyWkHaX/bwvlRT6KPDY+rzCrsph3LKsxgRYjxLgXKRG5HnhUKdUhIl8EzgS+qpR6cbgMzIcRKUM2q+/fwt0b9jOYxX+CHvikEauCCYWj/PjJHfz55RCReBqvJQS9NuFoCoWe/At6JQCvbZFMOSBQEfTi91gkHUU85XD16dP58KqTTO9qmJkIIvWSUup0EXkjegv524DPK6VW9PHVIcWIlCGXUDjKT9ftZM0L++gaxMq2XgvOmV/FrWbspCAyrsB12xtpaI3SEkmgHIWDFihbBNsSokmHgFfwiGDbFhVBH7FUChDeffYcrjuzxgjVMDIRROpFpdRSEfkG8LJS6p7MueEz8ViMSBl6o7a+lS898BK1BzoLXp8umzkVPv7zzWatukIJhaP85Mkd/OHF/cRS2s1nW6CUkFKKEq9FWkGRz0NZ0IujFO3RFKsWVuP32jgKRODUGWWsXGgiZ4eSiSBSfwH2AxcDZwFRYKNSasnwmJef8S5SJoJw6FizsY7VD24lMojelQDvX2EWtS2UtVtDfO+vO9jR3IlSwrRSP12JFF1JB9sSKgJefF6baDINCqpLfYgIsyqD7GmOEO5KMrU8wEfN0ktDxkQQqSLgcnQvaqeITAdOU0o9PlwG5mM8i1S+uVgNLV1Ul/pRYERrgAzFhoylXnjPOfN4n4lMK4hQOMr67Yd45UA7DS1dbNkXxmNblPg9pBxFPJlmRkWAZFpREvDQ2pnE77Nw0g7hWAqPWLx7xSyuXmpcgYNl3IsUgDsedZJS6lciMhkoUUrtGRbremA8i1TuqhYtkTgb9rRQFvBwzgnVZgLxIMi4oX6/uYHYIHpWPgveuayGj1y4wDyDAbBmYx0/fmo3rV0pSv0eFkwroqUzjaMcko6DiGCL0BpJoFAEfDazKotZtXCKKfeDZNyLlIh8Cb0b70Kl1AIRmQGsUUqN6G5041mkctcH3Ly3lVgyTdJxuGDBFMAsxTQUrN0a4st/foX68OD2uDqxOsjnrlhk3FEFkt27Um6oeiLlsGlvK5VFPlq7kiTTel3AymIfPo/wzjfMJpZMU1nsM67wAXI8ipSnwPTXAkuBzQBKqQMiUjrkVk1gqop9ROKp7p5URzyJ1xZKA0ceVbHfQ3Pn4JYKmuhcdMp0LjplOqFwlG8/so0Haw+SHkA+rzdH+fBvN/Pm06bx6SsWmwqzn0yvCHLDirndx6FwlPs2N/BiQ5jOeJJ4Uj+NgE/weYSKIh/xlMOzuw6zdHYFu5si7GrqJJV2uPDkyVyzdJa59+OUQkUqoZRSIqIARKR4GGya0CypqeCJbXrspNjvwWMJ4a4UZ88v704TiaeoKvZ1H+e2Sk+bWW7WSusn0yuCfPeGs/jMFXq+z70bG0gWmEfSgT/WHuThbQdZPruKW82ySwUzvSLIdWfWEIslefClg6SUQ0XAS0Wxj3Qals2pZPvBdgIe4aV9bRzqiFHss0mkLJ7a0UwqDdctM0I1HinU3fcp4CTgEvQ8qQ8Av1NKfX94zMvPeHb3wdHRfYKiOZKkpiKYd1HbUDjKfZv2UdfSRXnAC6IId6WYN7nYzDkZILc/spWfPFXHIIatOKHKz+ffdIpxAw6AzGoWLx9oZ1Kxn3PmVzG5NMC67Y2UBTwcbIshIvg8NkopwtEEC6eWsmL+JOMC74Pj0d03kMCJS4BL0ZG5jymlnhgOw3pjvItULr2FpD/6SogNuw9jiUXQZwMQTaZwHGVe2iFgsKtZ2MD5J1by9euWmgZDgeSW+9ZInM31bTR2RCn2eREREikHj8CkUj+LZ5TxrhVzzBSOXjgeRapQdx+uKD0BICK2iLxbKfXbIbfM0M30imCPL1lLJEEyrSgPWt3nAh6btmiClsjgggIMsPraMzhlZgW3Pb6DQ52FOgIhDax7vZWrvv8UH/yn+WbspAByy70Wn3YcBxLpNIJFPJVmUnkAry1UFfuOmsJRXeInEk/xxLZDJirwOMbqOwmISJmIfE5Efigil4rmY8Bu4O3Da6KhN6qKfXhtIZY80taPpdJ4beuocSvDwLl++Vw2fPFS/vTRczn/xCq80vd3cjncleY7T+xk5W1Pcsnt61izsW7I7RzvTK8IcsMbZlFZ7KO5M0HaSTOt3E/SUVQV6R5TbUOY0oCH0oAXS4TSgJfSgIfahvBom28YIP3dquNPQCvwHHARUAn4gI8rpbYMq4V5mGjuvt4odEzKuEKGhtr6Vm5/7DWe29NCsp++QK8FOKBXqoMpZT6uPWOmmRxcIDpQqJGX97cds3xS7hQOAEcpmjvjvGvFnFG0emxwPLr7+itSLyulTnP/bwPNwGylVMcw25cXI1JH09/oPrOz8NCzdmuIrz+yjd3NsT7XCfTAMcEYFlDit3jLkunccuFC8xwGSe5keMg/r3CiNtbGs0htVkqd2dPxSGNEamD09AKbCZKDZ+3WEN95YgdbD3b2mEbgGCHLPifAnMoAt6w6geuXzx0WO8c7/WmIZaeJp9JsP9hBc2eCc0+YNO6nboxnkUoDkcwhEAS63P8rpVTZsFmYByNSAyOfK6S5M84zrzdz4clTiKfSbN4bZndzJzUVQVbMrzKrUBdIKBzl39ds5pld4aMmBwcsiDvHilQuFuC14Yyacq45s8bc/wHQVy8p01hLph227Gsj6LVROCgF86pLxrVnYdyK1LD9uN5EcTWwCFiulOqX8hiRGhj5elLPvN4EwKLpZTz7+mEOdcRIOw7NnQk640k8lsXyuZXcdN58M0G1QELhKH96sYF7NtQTao+RdseuehvCEo4IVXVpgKllAT56gVkFfCjJNNa21IeJpxyCPj3fqj2W5MzZleN6ybHjUaT6Fd03jLwCvBX42yjbMSFYBNjypAAAGz1JREFUUlNBRyxFRyyJoxQdsSSHIwkWTiulrrmLzngS2xYa2+M0dcTxioUFvHygne+v3UltfetoX8JxxfSKIB9edRL/9+FzeceyGsr8fYcFCjpsPeFAayTOi/VhPvSbzaz42uN86+GthMLRYbd7vJNZeqwjniTg1VVgLJXudhGaqRtji1HtSXUbIbIe+JTpSQ0/+SZIBrweNte3Ut8SoSOWpr65E0QoD3pJphVFfptSv4egz6amsshsSDcI1m4Ncdvj29l+KJK3R5U7RpWN34bpFQHesWy22bZiEGTGpPY0dyIIYkE04XDGrAq8tpie1BjjuBEpEbkZuBlg9uzZZ+3du3eErBvfZL+w9Ye7qG/t4lB7nIqgB9uyUAqK/TadiSSOA5csnkpnNEV9axclfg8XLZo67gebh4M1G+v47trXOdB2ZKHgjEBJ1nEGhQ5hD3otKkv8lAW9zJ9UbMYNB0gmIva53S1MKvaxcFoZfo817qNdjUjl+wGRvwLT8nz0BaXUn9w06zE9qVEj88I++VoTdYcjtHcl8NgWIkLQa+GxLMLRBNUlfs6cU8X2g+0cjiRo64pjWzaTy/xccco0rjGt+4IIhaM88GIDa56vZ39bDEeBUoDSouTgCpXofwW9DXux30vQa1ES8FBZ5OO0mgo+cJ6ZazUQJloouhGpgRphRGpMkBnof6B2P43tCaqKbKaWB9nXGiOVSnPOiZNp6YxT3xKlM5Yglnbw2TaWKHyWxdK5VfzzefNMgMUACYWj/O+ze/j1hnq64jo2UEQLlkcgrcAWKA54KPLZVAR9VJf4iSXTXLN0JjeYyaqGPjgeRargtfsM45fMQP/VS2t44MUGnt11mHg6zdxJRZQFPFQUedke6iCVTpNWIAhKgc9j46BojST4wbqdTCsL0BlPMbUswJWnTjei1U+mVwT59JWLmVtdxLcf205rNIXj6B6Ug94Y0BIIeG28loXfa1Ps95B0HF7e38YNo30BBsMwMKoiJSLXAj8AJgMPicgWpdRlo2mTQVeWH1l1Eh9ZdRJwZEO6PU0REk6aeNohldZ+qaDXxrYElENnLMme5gT/v717D47rqg84/v3du0+tnpYsWYljO05iO4kbB2KSQMBNYqAhhZQ3uDAUmI6B0gLDNKUZWlramUJJ/wDKAE2hPAYIDCmhAUIgEEweToIdx3JMiENiObJiW5at12q1r7v39I97V6w3q/dj73p/nxmPpN27uz8da/bsOed3fiebd1nZFOH+Qye5q+c4V5/fxrtfpiOs2XrLlevYsKqFL+76PXt6hxnPOti20J6IkM17+3miYZtWP7ElZtuUbH3jl789zjceeY6+oQniIZtrN67U0kuqZgVium+udLpv+RXrpf3g8X6eO53CEm8UFQ+HcFyXxqjNRK5AY9QmFrYZSxeIhm2MKWCMsH5lEzu3aUc1H8U1w0d7h9jXN4wgrG6NE4+ESGULtDaE2Lahgx1XreOXvz3OZ352iFSugCWQzhWYyBc4v72Bd1y9VpMs6lwtTvdpJ6Xm5PhImv95qJc9vUMcG0kTsoWoLbQlopxMZlnbFuf5sSyJiJey7rouyZzDletWMJFx6GyJMTCW0anAeerpG+arDx5mcDxH2LboaoqwZkVi8lTand/YwzMnx8kWDBbe2WJZp0DeNXQ3R2lvjPHKTZ2awl6narGT0jUpNSfdrXHee835rO9IcN9TAxweTNHaEOHi7maiJ5NkXe/NMepvksw5Lk2RENlcgUd6h7j+4k7OaYkzmslz2/297NyGdlRzsGVNG7fceMmUGWkDyQw5/6iWTN7FIBRcQ94xZB2DJfCD/c+zt2+E7Zs6dfuACry67aTqLfV0MXW3xtlx1Vp2lJ2Cem5rjL1Hhkll8mRyDpYIGcdlU3czvz02SmtDmLaGKAAhyyKZzfEf9x7iHVet1fafg+kOwexqinFiJEPIFhxjKLguBdfLDjQGxrMuuXyBE6Np7uo5Rk//KDtecp5+UFCBVe2ySFVR3MCazhXoaIySzhW498kBLTkzD92tcW7Y3M2fX7WWD1x3ER/afhEbVzUxnMlTcA2XrW4mGrYYzThcvKoJ8Cqv955KEbEssvmCtv8ietvW1ViWRSqbB2PI5Qu4xhCPWF7H5Tg4LjgFl0hIsC24fU+ftr0KrLocSZWe3glMfu3pH9FP8wu0ZU0bn11zBT19w9x98DgDYxkaoyGuXNtKPOr9uZ1MZoiGbHKFAm2J6GT77zo0QFsiqqPbBdh+aTdDqSxfvr+X06kcRiARsWhLxBAxTOQKNMRCREI2iUiI1niEk8nM5Mm1OruggqYuO6mhlFc9oVQiGuLUeHaKR6i52rKm7YwppJ6+YW67vxeAiWwBg2Ei6/LyCzsAyDoFHj48xHUbO+lojJLKOtz75MBZXaJmqbzlynW8fEMXPf0jHDg6wm+OnGYiV8AWC2PyYCAeCdHZFCfjFOhojNA7mOLkWJamWAhL4NHDp/nJgeN1ccaSCra67KSKVZBLj6xIZR1WJCJVjOrstmVNGzu3wd0Hj5POOySiYf5k80rO72gE4NCJJO2JyBmj2+GJHF/f3cva9oR+sp+j4rrVDZu7z0hhf6J/lLaGMBtXNWHbXmHV1Z2NnBhLs6olRr7gcqB/DNc1pLJ5fnTgGD39I+x4yRpdt1JVUZcp6HqMenVVav/7njrJNRd2TI5wh/xjKhzX5VWXrOL54TSPHx3GEmiIhPijc1v0E/489PQNc/uePgquoaMxQmdTHNsSxrN5LuxsYn+fN913bDRNJCQ4BcO5bXGSGYeXrl+BQfQDQw2rxRT0uuykQLP7qu2FR4bkiIXtyZHUvueGGc3kaImHWdfeyO5nBukfSWOMIeu4jEzk6W6J8f5teiDgXFX62+/pHyGdK7Cvb5hTyQyOCyCELWFlU5QD/aNcvqaFl17QoR/qalgtdlJ1Od0H06fxqqVX3v7F0RV464OD41lClrCuvZEjp8dJZh0whr7TabqaYzTGbPqH03zyx0/y9Mkkr3/Refr/OUtT/e3f++QAIUsYzTg0hEPkCgXO7UjQPzxBWyKE4xosEU00UsuqLlPQVfB0t8Z51SVdxCM2p8azrEiE2dDVxIpEhGTGoeAaBpM5YmELy4KJrItlecVtf9M7rCnsC1Rs/w1djeTyLlnHK6VkWxajmTwdiShN0T+s4eoJtmq51O1ISgVP6Sf84sgqmcnTGLUpuIbxnMOq5iipbAEEwmLRFAsxkfeO/t516CRtiYhO4c6Tt0l7HZd0t3D7nqNM5F3aIyHWrWigAKzraJi8VhON1HLRTkoFUvGTfU//CM2xCG0NYZqjNo5ryDgFwBCPhonYFq3xCFnHZfezp3nRmlYOD47z7GCKfMFl+6ZOPYxxjrasaaOzOTa5brW2vYFTySxh28I1ZnJN6ur17dUOVdUB7aRUYJWPrL65+zA/eeIEjuvSFg/TEg9TcA1XrG3l0IkxYiHhwNERBpJegdtcocCvnx7EKZjJAqxqdiqtGfb0j/hTsRGuXt+u7amWhXZSqiZ0t8b52I2XcsPmc/j+Y0fp6R+lIWJz1foVrGyKcfDYGM2xEMOpLI3RMJGQRSRkMeLmGJrI6VTgAmmikaqWuk1BV7XthSnsWfb1jXIymSYRCSMi5JwCIQtikRBOwXD9pk6yToFDJ5KcGs9pNYVlpFs+gkFT0JVaJpWno8ZwXe94EBHIOi7tLXEGxtKs60hMVlOIh22Mcfna7l6+/Otn6WyKcr2uXS2Z0s3bHY1R+ocnuPuJ41jiZQluPqdZD2NUU9IUdHVW6G6Ns+Ml59GWiHA6laXgul6ZH9fFtoWNq5o4cmqCeNhmNJ3lwPNjnErmyDoFnh5I8pUHe7n5+4/T0zdc7V/lrFNa0HlkIseBo6McG0kzls4TtW32PjfCHXuP6hYCVZF2UuqssWVNG7e85mLeuvU8VrXECdvC1rWtbN/USTRkk8zmiYUtDg+myPpHWOQcl5AtxEI2vx9M8dUHD+ub5SIbSuVI+BXwj5yaYDybp7UhjAs0RL1K7EMTuclK7EqV0uk+dVaZPJCx5LbidFPIEtK5AqNph0y+gG0LFhYhS4iGLJycy/MjGS1qu8hKCzons3nyrkvYsmkI2QDEwhaj6YJuDlYVaSelznrFPVe7DsHDh4eIR2witkXeNViWIRq2cVywLWFkIsdQKs8Va73jQu7Y109HIqyFVRdgy+rWP5S8ioRwXUg5Dqu7vEMwM3mXsC26OVhVpJ1UDdDMqIUrVlO4dmMXP3y8n28+0kc2mydkCa4L2UKeiG3T3hhhZWMUS4R8wdA7mKLvlKG9McbjfSPsOjSox63P0Rkbs+Mh2hIR8o7rl7dyGM3kWbeigS2rW6sdqgog7aQCrjwzSg8DXJju1jgfuO4iNnQ28rn7nqF/ZALLclndFieTd1nVHJ8s/3Pk9Dghy9B7eoLmeJTOpigj6Ry37+mjszmm7T8H5Ruzdx06yRPPjyICW9e2anafmpJ2UgGnR90vje2XdnPJua1nvFliDBd0NrEi4Z1plcw4nErmaYlGiEe89RM9bn3hKq0bKjUV7aQCbqaj7nv6hrn74HEGxjJ0Nce4cXO3TkXNUvmbZWlR20Q0RMgShtN5Lju3efIxlY5b1xGuUktHU9ADrpgZVapYgbqnb5jb7u9lPOtwTkuc8azDbff36l6feSo/LmRDVxPntcVwjMEYQzrvkM65dDbFGUnnJke4xTOWmmIhTaNWapHpSCrgzsiMKjnq/ur17Xx9dy+tiRBtDd5Iq/j17oPHdTQ1T+WVLC7pbub2PX2cTGboaIywurMR2xJa4uHJvT9FpSNcpdTi0E4q4Eozo8orUA+MZTin5cyppZZYmGOjuhl1sZQfW1F63Hpx709R+RlLmpWp1MJpJ1UDpqpA3dUcYzSTnxxBAYxm8nQ1x5YzvLPedMetwwtHuHBmVqYl8Ojh0/zkwHEtaqvUHOmaVA27cXM3IymH4YksrusyPJFlJOVw4+buKR9zfCTNPQeP851Hn+Oeg8e1BNA8la9fxSP2GUkTxazMYlFbSyxWNkV4eiCpR90rNQc6kqphW9a0sXObtwZ1bDRNV3OMt14x9UZT3XO1uKY7Y6mYlbm/b4R42CYesTHGYiyTn0yw0DZXambaSdW4LWvaZp0koXuulk8xKzOZzdPst3PGKdAUC52RYKHrVkpNT6f76khpNeqiRDSkhT2XwJbVrSQzzmRR22L6+rr2xskEi+LINp0rYInw6OHTfOqnv+P2R4/odKBSvqp2UiJyq4g8JSIHROROEdHiXUtouj1XanEV16w2dDVyKpXFdQ2XrW4hbAvJjDOZIeitWxkO9I9iWUJHIsrTA+O6bqWUr9ojqXuBzcaYy4CngVuqHM9ZrfjpPpnJ4xpDMpOffMNUi69Y1PaW11zMVevbcY05I8GiOLI9cnqceMQiHg4Rj9g4rtGNwUr5qromZYz5ecmPjwBvrlYs9WC6PVcz0bWT+ZsqwWJy3Srj/GHdKu/SFA3rupVSviAlTrwX+N5Ud4rITmAnwJo1a5YrprPOdBlpU9GswKVRrCYSsoR03kGwSOcLbFz1wnUrbXtVr8QYs7QvIPILYFWFuz5ujPk//5qPA1uBN5pZBLR161azd+/exQ1UTemeg8dJ5wpnVFdIZvJk8g5tiah+wl+A4rEVu589TUdjhI2rmryj7jPO5Ki3UtvHIzY3TLMfTqlKROQxY8zWascxF0s+kjLGvHK6+0XkL4DXAttn00Gp5VepEnvWKfDw4SGu29ipn/AXoFiJ/dqNnZNTevGIPTkN+6tDJ6etgq/U2a6q030icgPwMeCPjTET1YxFTa24dlL6af7QiSTticjkbfmCoffUOF/41RivuGiljqrmaKZ1q+lqBCp1Nqt2dt8XgCbgXhHZLyJfrnI8qoJKWYGnxnNsXOWdszSUyrH/6AgiIHj7gjSFenFoRqaqd9XO7ruwmq+vZqdSVuDLLmgnGvI+4xRTqDFCc8ya/NS/69CArlkt0EIyMpU6GwQpu08FWPl0VDHrDGAsnSdi22QcLzMNdM1qMc0nI1Ops0W1p/tUjSqtAu4aMBguP6+FFQlvkb90zUpPrlVKzZeOpNS8FT/hF/f7hG0L1xhSWYdT4zmuubDjjOs1K00pNVfaSakFm2nNqkiz0oJHq1mooNNOSi2K6dasKp1cq6pPq1moWqBrUmpJzHRyraq+0vPFdN1QBZWOpNSS0ay0YKtUSUTXDVXQ6EhKqTql54upWqAjKaXqVDErE3TdMOjqOcFFR1JK1SldN6wNxQSXdK5AR2O07sqO6UhKqTqm64bBV5rgAkx+7ekfqYv/Ox1JKaVUgA2lciSiZ44nEtEQQ6lclSJaXtpJKaVUgNV7got2UkopFWD1flyLdlJKKRVg9Z7gookTSikVcPWc4KIjKaWUUoGlnZRSSqnA0uk+pajvHf1KBZmOpFTdq/cd/UoFmXZSqu7pkRVKBZd2Uqru1fuOfqWCTDspVffqfUe/UkGmnZSqe/W+o1+pINNOStW9et/Rr1SQaQq6UtT3jn6lgkxHUkoppQJLOymllFKBpZ2UUkqpwNJOSimlVGBpJ6WUUiqwtJNSSikVWGKMqXYMcyYig8Bz1Y5jljqAU9UOYgFqOf5ajh00/mqr5finin2tMWblcgezEDXZSdUSEdlrjNla7Tjmq5bjr+XYQeOvtlqOv5ZjL6fTfUoppQJLOymllFKBpZ3U0rut2gEsUC3HX8uxg8ZfbbUcfy3HfgZdk1JKKRVYOpJSSikVWNpJKaWUCiztpBaJiNgi8riI/LjCfe8WkUER2e//+8tqxDgdETkiIk/48e2tcL+IyOdF5BkROSAiL65GnJXMIvZrRWS0pP0/UY04pyIirSJyh4g8JSK/E5GXlt0f2LaHWcUf2PYXkY0lce0XkTER+UjZNYFs/1nGHti2ny09T2rxfBj4HdA8xf3fM8b89TLGMx/XGWOm2rz4GuAi/99VwJf8r0ExXewADxhjXrts0czN54B7jDFvFpEI0FB2f9Dbfqb4IaDtb4w5BFwO3gdN4HngzrLLAtn+s4wdAtr2s6UjqUUgIquBPwW+Uu1YltCfAd80nkeAVhHprnZQtU5EmoFtwFcBjDE5Y8xI2WWBbftZxl8rtgPPGmPKq9kEtv1LTBV7zdNOanF8Fvg7wJ3mmjf5UwV3iMh5yxTXXBjg5yLymIjsrHD/ucDRkp/7/duCYKbYAV4qIj0i8lMRuXQ5g5vBemAQ+Jo/XfwVEUmUXRPktp9N/BDc9i/1duD2CrcHuf2LpoodaqPtp6Sd1AKJyGuBk8aYx6a57EfAOmPMZcAvgG8sS3Bzc40x5sV4UxsfFJFtZfdLhccEZf/CTLHvw6tZtgX4T+CHyx3gNELAi4EvGWNeBKSAvy+7JshtP5v4g9z+APjTlDcB3690d4XbgtL+M8Ue+LafiXZSC3cNcJOIHAG+C1wvIt8qvcAYc9oYk/V//G/giuUNcWbGmGP+15N489pXll3SD5SOAFcDx5YnuunNFLsxZswYM+5/fzcQFpGOZQ+0sn6g3xjzqP/zHXhv+uXXBLLtmUX8AW//otcA+4wxAxXuC3L7wzSx10jbT0s7qQUyxtxijFltjFmHN+S+zxjzztJryuavb8JLsAgMEUmISFPxe+DVwMGyy+4C3uVnOl0NjBpjji9zqC8wm9hFZJWIiP/9lXh/96eXO9ZKjDEngKMistG/aTvwZNllgWx7mF38QW7/EjuYerossO3vmzL2Gmn7aWl23xIRkX8B9hpj7gI+JCI3AQ4wBLy7mrFV0AXc6f8th4DvGGPuEZH3AxhjvgzcDdwIPANMAO+pUqzlZhP7m4EPiIgDpIG3m2CVWvkb4Nv+tM1h4D010vZFM8Uf6PYXkQbgVcD7Sm6rifafReyBbvvZ0LJISimlAkun+5RSSgWWdlJKKaUCSzsppZRSgaWdlFJKqcDSTkoppVRgaSelaoKIFPwqzgdF5Pt+6u18n+ta8avVi8hNIlJeIaH02lYR+at5vMY/i8jfTnHfTvEqhj8lIntF5Nq5Pn/Jc1X8XUTk9SJyyXyfV6mg0E5K1Yq0MeZyY8xmIAe8v/ROf6PlnP+ejTF3GWM+Pc0lrcCcO6mp+GW03ge83BizCdgJfEtEFlwLrux3eT2gnZSqedpJqVr0AHChiKwT7/yiL+LVKDtPRF4tIg+LyD5/xNUIICI3+COXB4E3Fp9IvLO+vuB/3yUid/rFOHtE5GXAp4EL/FHcrf51N4vIHvEKBn+y5Lk+LiKHROQXwEYq+xhwc/FYEWPMPuBrwAf95zhSLFsjIltFZJf//ZUislu8Iq67Syo8TCr+Ln7cNwG3+nFfICL7Sq67SESmqzWpVGBoJ6VqioiE8GqVPeHftBHvGIVicdN/AF7pF5zdC3xURGJ4NRNfB7wCWDXF038e+LVfjPPFwG/xiqU+64/ibhaRV+OdK3Ql3lk+V4jINhG5Aq8s1ovwOsGXTPEalwLlHcReZh71PAVs83/PTwD/NtWFxpjdeKV8bvbjfhYYFZHL/UveA3x9htdTKhC0LJKqFXER2e9//wDe+UXnAM/5Z/wAXI33Zv+QXyYpAjwMbAJ6jTG/BxCvAHClIz2uB94FYIwp4L2xt5Vd82r/3+P+z414nVYTcKcxZsJ/jbvm8LtVqrJdrgX4hohchFeBOzyH5wfvrLP3iMhHgbfxwgLCSgWSdlKqVqSNMZeX3uB3RKnSm4B7jTE7yq67nMU7WkGATxlj/qvsNT4yy9d4Eq8K/n0ltxVHfeDVdyzOcMRKrvlX4FfGmDeIyDpg1xzj/l/gn/zXfcwYU1NFRlX90uk+dTZ5BLhGRC4Er/imiGzAmyo7X0Qu8K/bMcXjfwl8wH+sLd6ps0m8UVLRz4D3lqx1nSsincD9wBtEJC5eVfbXTfEanwH+XUTa/cdfDrwBKHZ6R/jDUS5vKnlcC97x4DC7AsVnxG2MyfixfwlvDUypmqCdlDprGGMG8d7AbxeRA3id1ib/DXon8BM/cWKqI7Y/DFwnIk/grRtd6o84HvJT3281xvwc+A7wsH/dHUCTnwDxPWA/3qjlgSlivAtvqvIhEXkGeBB4vR87wCeBz4nIA0Ch5KGfAT4lIg8B9iya47vAzX6iRbFz/jb+KcazeLxSgaBV0JWqEj8J5Gt4HxbfudRHKPj7tlqMMf+4lK+j1GLSTkqpOiAidwIXANcX09+VqgXaSSmllAosXZNSSikVWNpJKaWUCiztpJRSSgWWdlJKKaUCSzsppZRSgfX/P/1zQI2jYPwAAAAASUVORK5CYII=\n",
      "text/plain": [
       "<Figure size 432x288 with 1 Axes>"
      ]
     },
     "metadata": {
      "needs_background": "light"
     },
     "output_type": "display_data"
    }
   ],
   "source": [
    "plt.scatter(residuals['predicted'], residuals['residual'], alpha=0.3);\n",
    "plt.xlabel('Predicted Quality');\n",
    "plt.ylabel('Residuals')\n",
    "plt.title('Scatterplot of residuals vs. predicted quality for Model', fontsize=15)\n",
    "plt.show();"
   ]
  },
  {
   "cell_type": "markdown",
   "metadata": {},
   "source": [
    "From the above figure of residuals vs predicted quality,the residuals exhibit a banding pattern. It indicates that the constant variability assumption of linear regression might not be suitable for this case.\n",
    "\n",
    "And the below figure is about residuals vs actual quality."
   ]
  },
  {
   "cell_type": "code",
   "execution_count": 30,
   "metadata": {},
   "outputs": [
    {
     "data": {
      "image/png": "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\n",
      "text/plain": [
       "<Figure size 432x288 with 1 Axes>"
      ]
     },
     "metadata": {
      "needs_background": "light"
     },
     "output_type": "display_data"
    }
   ],
   "source": [
    "plt.scatter(residuals['actual'], residuals['residual'], alpha=0.3);\n",
    "plt.xlabel('Actual Quality');\n",
    "plt.ylabel('Residuals')\n",
    "plt.title('Scatterplot of residuals vs. actual quality for Model', fontsize=15)\n",
    "plt.show();"
   ]
  },
  {
   "cell_type": "markdown",
   "metadata": {},
   "source": [
    "From the above figure, we can see the model underestimates higher quality wine. By comparing the previous figure, for the qualities larger than 7,the model predicts significantly lower qualities.\n",
    "\n",
    "The figures below are the histogram of actual vs. predicted quality on the same plot. "
   ]
  },
  {
   "cell_type": "code",
   "execution_count": 31,
   "metadata": {},
   "outputs": [
    {
     "data": {
      "image/png": "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\n",
      "text/plain": [
       "<Figure size 432x288 with 1 Axes>"
      ]
     },
     "metadata": {
      "needs_background": "light"
     },
     "output_type": "display_data"
    }
   ],
   "source": [
    "plt.hist(residuals['actual'], label='actual', bins=20, alpha=0.7);\n",
    "plt.hist(residuals['predicted'], label='predicted', bins=20, alpha=0.7);\n",
    "plt.xlabel('Quality');\n",
    "plt.ylabel('rate');\n",
    "plt.title('Histograms of actual quality vs. predicted quality for Model', fontsize=15);\n",
    "plt.legend()\n",
    "plt.show()\n"
   ]
  },
  {
   "cell_type": "markdown",
   "metadata": {},
   "source": [
    "From the above figure, the model's predictions are highly clustered around 5-6."
   ]
  },
  {
   "cell_type": "code",
   "execution_count": 32,
   "metadata": {},
   "outputs": [
    {
     "data": {
      "image/png": "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\n",
      "text/plain": [
       "<Figure size 432x288 with 1 Axes>"
      ]
     },
     "metadata": {
      "needs_background": "light"
     },
     "output_type": "display_data"
    }
   ],
   "source": [
    "plt.hist(residuals['residual'], bins = 20);\n",
    "plt.xlabel('Residual');\n",
    "plt.ylabel('rate');\n",
    "plt.title('Histogram of residuals for Model', fontsize=15);\n",
    "plt.show();"
   ]
  },
  {
   "cell_type": "markdown",
   "metadata": {},
   "source": [
    "From the above figure, the histogram of residuals is slightly left-skewed and looks like symmetric. \n",
    "It seems the normality assumption of linear regression is not significantly violated in this particular case."
   ]
  },
  {
   "cell_type": "markdown",
   "metadata": {},
   "source": [
    "## Summary and Conclusions"
   ]
  },
  {
   "cell_type": "markdown",
   "metadata": {},
   "source": [
    "\n",
    "Our diagnostic checking is with residual scatter plots, rather than being random and centered around 0. And the residuals exhibit a banding pattern.\n",
    "\n",
    "In particular, for those qualities lower than 5, the model predicts much higher quality. In the oterr hand, for those qualites above 7, the model predicts significantly lower quality."
   ]
  },
  {
   "cell_type": "markdown",
   "metadata": {},
   "source": [
    "## References"
   ]
  },
  {
   "cell_type": "markdown",
   "metadata": {},
   "source": [
    "- P. Cortez, A. Cerdeira, F. Almeida, T. Matos and J. Reis.(2009) UCI Machine Learning Repository (online) available at http://archive.ics.uci.edu/ml/datasets/Wine+Quality . [assessed 2020-10-23]\n",
    "-  Vural Aksakalli Imran Ture,(2020) Predicting Age in Census Data(online) available at https://github.com/vaksakalli/stats_tutorials/blob/master/Regression_Case_Study1_web.ipynb. [assessed 2020-10-10]"
   ]
  }
 ],
 "metadata": {
  "kernelspec": {
   "display_name": "Python 3",
   "language": "python",
   "name": "python3"
  },
  "language_info": {
   "codemirror_mode": {
    "name": "ipython",
    "version": 3
   },
   "file_extension": ".py",
   "mimetype": "text/x-python",
   "name": "python",
   "nbconvert_exporter": "python",
   "pygments_lexer": "ipython3",
   "version": "3.7.6"
  }
 },
 "nbformat": 4,
 "nbformat_minor": 4
}
 the prdict values for it on multiple linear regression.\n"
     ]
    }
   ],
   "source": [
    "# Multiple Linear Regression\n",
    "model = sm.OLS(y, X).fit()\n",
    "predictions = model.predict(X)\n",
    "model.summary()\n",
    "print(f'At this step, we built the full model and define the prdict values for it on multiple linear regression.')"
   ]
  },
  {
   "cell_type": "markdown",
   "metadata": {},
   "source": [
    "Then we define a new data frame for actual quality vs. predicted quality and the residuals for the full model. We will use this data frame when plotting predicted values and the regression residuals."
   ]
  },
  {
   "cell_type": "code",
   "execution_count": 158,
   "metadata": {},
   "outputs": [
    {
     "data": {
      "text/html": [
       "<div>\n",
       "<style scoped>\n",
       "    .dataframe tbody tr th:only-of-type {\n",
       "        vertical-align: middle;\n",
       "    }\n",
       "\n",
       "    .dataframe tbody tr th {\n",
       "        vertical-align: top;\n",
       "    }\n",
       "\n",
       "    .dataframe thead th {\n",
       "        text-align: right;\n",
       "    }\n",
       "</style>\n",
       "<table border=\"1\" class=\"dataframe\">\n",
       "  <thead>\n",
       "    <tr style=\"text-align: right;\">\n",
       "      <th></th>\n",
       "      <th>actual</th>\n",
       "      <th>predicted</th>\n",
       "      <th>residual</th>\n",
       "    </tr>\n",
       "  </thead>\n",
       "  <tbody>\n",
       "    <tr>\n",
       "      <th>0</th>\n",
       "      <td>5</td>\n",
       "      <td>5.015898</td>\n",
       "      <td>-0.015898</td>\n",
       "    </tr>\n",
       "    <tr>\n",
       "      <th>1</th>\n",
       "      <td>5</td>\n",
       "      <td>5.115008</td>\n",
       "      <td>-0.115008</td>\n",
       "    </tr>\n",
       "    <tr>\n",
       "      <th>2</th>\n",
       "      <td>5</td>\n",
       "      <td>5.198882</td>\n",
       "      <td>-0.198882</td>\n",
       "    </tr>\n",
       "    <tr>\n",
       "      <th>3</th>\n",
       "      <td>6</td>\n",
       "      <td>5.672657</td>\n",
       "      <td>0.327343</td>\n",
       "    </tr>\n",
       "    <tr>\n",
       "      <th>5</th>\n",
       "      <td>5</td>\n",
       "      <td>5.053299</td>\n",
       "      <td>-0.053299</td>\n",
       "    </tr>\n",
       "    <tr>\n",
       "      <th>6</th>\n",
       "      <td>5</td>\n",
       "      <td>5.091355</td>\n",
       "      <td>-0.091355</td>\n",
       "    </tr>\n",
       "    <tr>\n",
       "      <th>7</th>\n",
       "      <td>7</td>\n",
       "      <td>5.290987</td>\n",
       "      <td>1.709013</td>\n",
       "    </tr>\n",
       "    <tr>\n",
       "      <th>8</th>\n",
       "      <td>7</td>\n",
       "      <td>5.304178</td>\n",
       "      <td>1.695822</td>\n",
       "    </tr>\n",
       "    <tr>\n",
       "      <th>9</th>\n",
       "      <td>5</td>\n",
       "      <td>5.665328</td>\n",
       "      <td>-0.665328</td>\n",
       "    </tr>\n",
       "    <tr>\n",
       "      <th>10</th>\n",
       "      <td>5</td>\n",
       "      <td>5.059471</td>\n",
       "      <td>-0.059471</td>\n",
       "    </tr>\n",
       "  </tbody>\n",
       "</table>\n",
       "</div>"
      ],
      "text/plain": [
       "    actual  predicted  residual\n",
       "0        5   5.015898 -0.015898\n",
       "1        5   5.115008 -0.115008\n",
       "2        5   5.198882 -0.198882\n",
       "3        6   5.672657  0.327343\n",
       "5        5   5.053299 -0.053299\n",
       "6        5   5.091355 -0.091355\n",
       "7        7   5.290987  1.709013\n",
       "8        7   5.304178  1.695822\n",
       "9        5   5.665328 -0.665328\n",
       "10       5   5.059471 -0.059471"
      ]
     },
     "execution_count": 158,
     "metadata": {},
     "output_type": "execute_result"
    }
   ],
   "source": [
    "residuals = pd.DataFrame({'actual': winedata['quality'], \n",
    "                            'predicted': model.fittedvalues, \n",
    "                            'residual': model.resid})\n",
    "residuals.head(10)"
   ]
  },
  {
   "cell_type": "code",
   "execution_count": 113,
   "metadata": {},
   "outputs": [
    {
     "data": {
      "image/png": "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\n",
      "text/plain": [
       "<Figure size 432x288 with 1 Axes>"
      ]
     },
     "metadata": {
      "needs_background": "light"
     },
     "output_type": "display_data"
    }
   ],
   "source": [
    "def plot_line(axis, slope, intercept, **kargs):\n",
    "    xmin, xmax = axis.get_xlim()\n",
    "    plt.plot([xmin, xmax], [xmin*slope+intercept, xmax*slope+intercept], **kargs)\n",
    "    \n",
    "# Creating scatter plot\n",
    "plt.scatter(residuals['actual'], residuals['predicted'], alpha=0.3);\n",
    "plot_line(axis=plt.gca(), slope=1, intercept=0, c=\"red\");\n",
    "plt.xlabel('Actual Quality');\n",
    "plt.ylabel('Predicted Quality');\n",
    "plt.title('Scatter plot of actual vs. predicted quality for Model', fontsize=15);\n",
    "plt.show();"
   ]
  },
  {
   "cell_type": "markdown",
   "metadata": {},
   "source": [
    "From the above figure, we observe that the model never produces a prediction above 7.5 even we had red wines that their qualities are 8.\n",
    "### Full Model Diagostics Check\n",
    "\n",
    "We will check the Full Model Diagnostics.\n",
    "\n",
    "We want to check whether there are indications of violations of the regression assumptions, which are :\n",
    "\n",
    "linearity of the relationship between target variable and the independent variables\n",
    "\n",
    "normality of the residual distribution\n",
    "\n",
    "statistical independence of the residuals"
   ]
  },
  {
   "cell_type": "code",
   "execution_count": 114,
   "metadata": {},
   "outputs": [
    {
     "data": {
      "image/png": "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\n",
      "text/plain": [
       "<Figure size 432x288 with 1 Axes>"
      ]
     },
     "metadata": {
      "needs_background": "light"
     },
     "output_type": "display_data"
    }
   ],
   "source": [
    "plt.scatter(residuals['predicted'], residuals['residual'], alpha=0.3);\n",
    "plt.xlabel('Predicted Quality');\n",
    "plt.ylabel('Residuals')\n",
    "plt.title('Scatterplot of residuals vs. predicted quality for Model', fontsize=15)\n",
    "plt.show();"
   ]
  },
  {
   "cell_type": "markdown",
   "metadata": {},
   "source": [
    "From the above figure of residuals vs predicted quality,th
